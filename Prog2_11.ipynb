{
  "nbformat": 4,
  "nbformat_minor": 0,
  "metadata": {
    "colab": {
      "name": "Prog2_11.ipynb",
      "provenance": [],
      "collapsed_sections": [],
      "toc_visible": true,
      "include_colab_link": true
    },
    "kernelspec": {
      "name": "python3",
      "display_name": "Python 3"
    },
    "language_info": {
      "name": "python"
    }
  },
  "cells": [
    {
      "cell_type": "markdown",
      "metadata": {
        "id": "view-in-github",
        "colab_type": "text"
      },
      "source": [
        "<a href=\"https://colab.research.google.com/github/okayu44/Prog2_11th/blob/main/Prog2_11.ipynb\" target=\"_parent\"><img src=\"https://colab.research.google.com/assets/colab-badge.svg\" alt=\"Open In Colab\"/></a>"
      ]
    },
    {
      "cell_type": "markdown",
      "metadata": {
        "id": "tgWdmF8vWnQQ"
      },
      "source": [
        "# プログラミングII 第11回 演習　課題２\n",
        "\n",
        "* 各自でpythonプログラムの問題を設定し，その解答例を表記してください．\n",
        "* 問題は１問とし，小問などは設けないでください\n",
        "* 作成する問題とその解答は，webclassの「学籍番号と問題番号対応表」に掲載されている自分の学籍番号に割り当てられた問題番号の所に記入してください．（それ以外の問題に関しては変更しないでください）例えば，学籍番号が2120187の学生は第5問の欄の問題文に問題を．その下に回答例を記入してください\n",
        "* 今週の課題はGitの操作を体験することに重点を置いています．問題は簡単な問題で構いませんし，回答が間違っていても減点はしません\n",
        "\n",
        "* 作成した問題とその回答例を記入したファイル（Prog2_11.ipynb)をGitHubにコピーし，GitHubより常盤宛にpull requestしてください．\n",
        "* 提出先は通常のwebclassではありませんので注意してください\n",
        "* ファイル名は変更せず，Prog2_11.ipynbとしてください\n",
        "* pull requestをされた課題に対して，常盤側でマージします．\n",
        "* このリポジトリはpublic(公開)設定になっています．個人情報を含んだ内容をpull requestしないように注意してください\n",
        "* このリモートリポジトリは１月下旬にprivate(非公開)に変更予定です"
      ]
    },
    {
      "cell_type": "markdown",
      "source": [
        "# 第1問～第49問"
      ],
      "metadata": {
        "id": "yJIJfuDOxJIs"
      }
    },
    {
      "cell_type": "markdown",
      "metadata": {
        "id": "I0gzycS0Cb3X"
      },
      "source": [
        "第1問\n",
        "次の問題に答えなさい\n",
        "\n",
        "(ここから以降に自作問題を書いてください)"
      ]
    },
    {
      "cell_type": "code",
      "metadata": {
        "id": "MUa6kyHGCb3k"
      },
      "source": [
        "# ここに自作問題の回答（pythonプログラム）を書いてください"
      ],
      "execution_count": null,
      "outputs": []
    },
    {
      "cell_type": "markdown",
      "metadata": {
        "id": "K2tf-R8yCdNX"
      },
      "source": [
        "第2問\n",
        "次の問題に答えなさい\n",
        "\n",
        "(ここから以降に自作問題を書いてください)"
      ]
    },
    {
      "cell_type": "code",
      "metadata": {
        "id": "afREmPSRCdNY"
      },
      "source": [
        "# ここに自作問題の回答（pythonプログラム）を書いてください"
      ],
      "execution_count": null,
      "outputs": []
    },
    {
      "cell_type": "markdown",
      "metadata": {
        "id": "9obvht7nCd3_"
      },
      "source": [
        "第3問\n",
        "次の問題に答えなさい\n",
        "\n",
        "(ここから以降に自作問題を書いてください)"
      ]
    },
    {
      "cell_type": "code",
      "metadata": {
        "id": "wzQihgGZCd4B"
      },
      "source": [
        "# ここに自作問題の回答（pythonプログラム）を書いてください"
      ],
      "execution_count": null,
      "outputs": []
    },
    {
      "cell_type": "markdown",
      "metadata": {
        "id": "AqR0On24CfKE"
      },
      "source": [
        "第4問\n",
        "次の問題に答えなさい\n",
        "\n",
        "(ここから以降に自作問題を書いてください)"
      ]
    },
    {
      "cell_type": "code",
      "metadata": {
        "id": "lKcw5vdwCfKE"
      },
      "source": [
        "# ここに自作問題の回答（pythonプログラム）を書いてください"
      ],
      "execution_count": null,
      "outputs": []
    },
    {
      "cell_type": "markdown",
      "metadata": {
        "id": "uftUYUlWCggP"
      },
      "source": [
        "第5問\n",
        "次の問題に答えなさい\n",
        "\n",
        "(ここから以降に自作問題を書いてください)"
      ]
    },
    {
      "cell_type": "code",
      "metadata": {
        "id": "BAfurpM0CggQ"
      },
      "source": [
        "# ここに自作問題の回答（pythonプログラム）を書いてください"
      ],
      "execution_count": null,
      "outputs": []
    },
    {
      "cell_type": "markdown",
      "metadata": {
        "id": "sK_9Xrs-Cjwg"
      },
      "source": [
        "第6問\n",
        "次の問題に答えなさい\n",
        "\n",
        "(ここから以降に自作問題を書いてください)"
      ]
    },
    {
      "cell_type": "code",
      "metadata": {
        "id": "IXqgk3C0Cjwg"
      },
      "source": [
        "# ここに自作問題の回答（pythonプログラム）を書いてください"
      ],
      "execution_count": null,
      "outputs": []
    },
    {
      "cell_type": "markdown",
      "metadata": {
        "id": "xI5mhdenCkBQ"
      },
      "source": [
        "第7問\n",
        "次の問題に答えなさい\n",
        "\n",
        "(ここから以降に自作問題を書いてください)"
      ]
    },
    {
      "cell_type": "code",
      "metadata": {
        "id": "-jhcQeKMCkBR"
      },
      "source": [
        "# ここに自作問題の回答（pythonプログラム）を書いてください"
      ],
      "execution_count": null,
      "outputs": []
    },
    {
      "cell_type": "markdown",
      "metadata": {
        "id": "K7PUOjL4CkQH"
      },
      "source": [
        "第8問\n",
        "次の問題に答えなさい\n",
        "\n",
        "(ここから以降に自作問題を書いてください)"
      ]
    },
    {
      "cell_type": "code",
      "metadata": {
        "id": "9qyNF94ZCkQH"
      },
      "source": [
        "# ここに自作問題の回答（pythonプログラム）を書いてください"
      ],
      "execution_count": null,
      "outputs": []
    },
    {
      "cell_type": "markdown",
      "metadata": {
        "id": "ZyL18TdoCkaP"
      },
      "source": [
        "第9問\n",
        "次の問題に答えなさい\n",
        "\n",
        "(ここから以降に自作問題を書いてください)"
      ]
    },
    {
      "cell_type": "code",
      "metadata": {
        "id": "LFz94-gfCkaP"
      },
      "source": [
        "# ここに自作問題の回答（pythonプログラム）を書いてください"
      ],
      "execution_count": null,
      "outputs": []
    },
    {
      "cell_type": "markdown",
      "metadata": {
        "id": "1Y3dwztDCkfn"
      },
      "source": [
        "第10問\n",
        "次の問題に答えなさい\n",
        "\n",
        "(ここから以降に自作問題を書いてください)"
      ]
    },
    {
      "cell_type": "code",
      "metadata": {
        "id": "aWWF5oS3Ckfo"
      },
      "source": [
        "# ここに自作問題の回答（pythonプログラム）を書いてください"
      ],
      "execution_count": null,
      "outputs": []
    },
    {
      "cell_type": "markdown",
      "metadata": {
        "id": "cDbhQXFaCkkn"
      },
      "source": [
        "第11問\n",
        "次の問題に答えなさい\n",
        "\n",
        "(ここから以降に自作問題を書いてください)"
      ]
    },
    {
      "cell_type": "code",
      "metadata": {
        "id": "GCWLJcB1Ckkn"
      },
      "source": [
        "# ここに自作問題の回答（pythonプログラム）を書いてください"
      ],
      "execution_count": null,
      "outputs": []
    },
    {
      "cell_type": "markdown",
      "metadata": {
        "id": "zUYjdroXCkof"
      },
      "source": [
        "第12問\n",
        "次の問題に答えなさい\n",
        "\n",
        "(ここから以降に自作問題を書いてください)"
      ]
    },
    {
      "cell_type": "code",
      "metadata": {
        "id": "qAiDLWyoCkog"
      },
      "source": [
        "# ここに自作問題の回答（pythonプログラム）を書いてください"
      ],
      "execution_count": null,
      "outputs": []
    },
    {
      "cell_type": "markdown",
      "metadata": {
        "id": "rWCQnRlyCktP"
      },
      "source": [
        "第13問\n",
        "次の問題に答えなさい\n",
        "\n",
        "(ここから以降に自作問題を書いてください)"
      ]
    },
    {
      "cell_type": "code",
      "metadata": {
        "id": "jLb9HRMsCktP"
      },
      "source": [
        "# ここに自作問題の回答（pythonプログラム）を書いてください"
      ],
      "execution_count": null,
      "outputs": []
    },
    {
      "cell_type": "markdown",
      "metadata": {
        "id": "GW_2ywUyCkxI"
      },
      "source": [
        "第14問\n",
        "次の問題に答えなさい\n",
        "\n",
        "(ここから以降に自作問題を書いてください)"
      ]
    },
    {
      "cell_type": "code",
      "metadata": {
        "id": "RRuGJ-hHCkxI"
      },
      "source": [
        "# ここに自作問題の回答（pythonプログラム）を書いてください"
      ],
      "execution_count": null,
      "outputs": []
    },
    {
      "cell_type": "markdown",
      "metadata": {
        "id": "O67PA_m-Ck1o"
      },
      "source": [
        "第15問\n",
        "次の問題に答えなさい\n",
        "\n",
        "(ここから以降に自作問題を書いてください)"
      ]
    },
    {
      "cell_type": "code",
      "metadata": {
        "id": "-JNJEeGgCk1p"
      },
      "source": [
        "# ここに自作問題の回答（pythonプログラム）を書いてください"
      ],
      "execution_count": null,
      "outputs": []
    },
    {
      "cell_type": "markdown",
      "metadata": {
        "id": "9vIvb4XhCk6U"
      },
      "source": [
        "第16問\n",
        "次の問題に答えなさい\n",
        "\n",
        "(ここから以降に自作問題を書いてください)"
      ]
    },
    {
      "cell_type": "code",
      "metadata": {
        "id": "lnUxuE0VCk6V"
      },
      "source": [
        "# ここに自作問題の回答（pythonプログラム）を書いてください"
      ],
      "execution_count": null,
      "outputs": []
    },
    {
      "cell_type": "markdown",
      "metadata": {
        "id": "ZSdaCy7XCk9_"
      },
      "source": [
        "第17問\n",
        "次の問題に答えなさい\n",
        "\n",
        "(ここから以降に自作問題を書いてください)"
      ]
    },
    {
      "cell_type": "code",
      "metadata": {
        "id": "gKatqL2mCk-A"
      },
      "source": [
        "# ここに自作問題の回答（pythonプログラム）を書いてください"
      ],
      "execution_count": null,
      "outputs": []
    },
    {
      "cell_type": "markdown",
      "metadata": {
        "id": "sHuGxC_jClCA"
      },
      "source": [
        "第18問\n",
        "次の問題に答えなさい\n",
        "\n",
        "(ここから以降に自作問題を書いてください)"
      ]
    },
    {
      "cell_type": "code",
      "metadata": {
        "id": "KKqOyxsrClCA"
      },
      "source": [
        "# ここに自作問題の回答（pythonプログラム）を書いてください"
      ],
      "execution_count": null,
      "outputs": []
    },
    {
      "cell_type": "markdown",
      "metadata": {
        "id": "Tm9cafyHClF_"
      },
      "source": [
        "第19問\n",
        "次の問題に答えなさい\n",
        "\n",
        "(ここから以降に自作問題を書いてください)"
      ]
    },
    {
      "cell_type": "code",
      "metadata": {
        "id": "Xtz6iGOWClF_"
      },
      "source": [
        "# ここに自作問題の回答（pythonプログラム）を書いてください"
      ],
      "execution_count": null,
      "outputs": []
    },
    {
      "cell_type": "markdown",
      "metadata": {
        "id": "hrVA0qSGClKE"
      },
      "source": [
        "第20問\n",
        "次の問題に答えなさい\n",
        "\n",
        "(ここから以降に自作問題を書いてください)"
      ]
    },
    {
      "cell_type": "code",
      "metadata": {
        "id": "qMhW2kTFClKE"
      },
      "source": [
        "# ここに自作問題の回答（pythonプログラム）を書いてください"
      ],
      "execution_count": null,
      "outputs": []
    },
    {
      "cell_type": "markdown",
      "metadata": {
        "id": "aNa2FPXmClOH"
      },
      "source": [
        "第21問\n",
        "次の問題に答えなさい\n",
        "\n",
        "(ここから以降に自作問題を書いてください)"
      ]
    },
    {
      "cell_type": "code",
      "metadata": {
        "id": "BKOvcfXlClOH"
      },
      "source": [
        "# ここに自作問題の回答（pythonプログラム）を書いてください"
      ],
      "execution_count": null,
      "outputs": []
    },
    {
      "cell_type": "markdown",
      "metadata": {
        "id": "X84zzmeyClRu"
      },
      "source": [
        "第22問\n",
        "次の問題に答えなさい\n",
        "\n",
        "(ここから以降に自作問題を書いてください)"
      ]
    },
    {
      "cell_type": "code",
      "metadata": {
        "id": "c_biM36pClRu"
      },
      "source": [
        "# ここに自作問題の回答（pythonプログラム）を書いてください"
      ],
      "execution_count": null,
      "outputs": []
    },
    {
      "cell_type": "markdown",
      "metadata": {
        "id": "-C4Uuuv3ClVv"
      },
      "source": [
        "第23問\n",
        "次の問題に答えなさい\n",
        "\n",
        "(ここから以降に自作問題を書いてください)"
      ]
    },
    {
      "cell_type": "code",
      "metadata": {
        "id": "NAb3ANsjClVv"
      },
      "source": [
        "# ここに自作問題の回答（pythonプログラム）を書いてください"
      ],
      "execution_count": null,
      "outputs": []
    },
    {
      "cell_type": "markdown",
      "metadata": {
        "id": "s9JD_5y-ClZ_"
      },
      "source": [
        "第24問\n",
        "次の問題に答えなさい\n",
        "\n",
        "(ここから以降に自作問題を書いてください)"
      ]
    },
    {
      "cell_type": "code",
      "metadata": {
        "id": "GVsUPkqyClZ_"
      },
      "source": [
        "# ここに自作問題の回答（pythonプログラム）を書いてください"
      ],
      "execution_count": null,
      "outputs": []
    },
    {
      "cell_type": "markdown",
      "metadata": {
        "id": "Lc5Rf1spCleO"
      },
      "source": [
        "第25問\n",
        "次の問題に答えなさい\n",
        "\n",
        "(ここから以降に自作問題を書いてください)"
      ]
    },
    {
      "cell_type": "code",
      "metadata": {
        "id": "3Y1i3paICleP"
      },
      "source": [
        "# ここに自作問題の回答（pythonプログラム）を書いてください"
      ],
      "execution_count": null,
      "outputs": []
    },
    {
      "cell_type": "markdown",
      "metadata": {
        "id": "PNyk0KXyCliH"
      },
      "source": [
        "第26問\n",
        "次の問題に答えなさい\n",
        "\n",
        "(ここから以降に自作問題を書いてください)"
      ]
    },
    {
      "cell_type": "code",
      "metadata": {
        "id": "WioMT9olCliH"
      },
      "source": [
        "# ここに自作問題の回答（pythonプログラム）を書いてください"
      ],
      "execution_count": null,
      "outputs": []
    },
    {
      "cell_type": "markdown",
      "metadata": {
        "id": "xWs81ntVClmY"
      },
      "source": [
        "第27問\n",
        "次の問題に答えなさい\n",
        "\n",
        "(ここから以降に自作問題を書いてください)"
      ]
    },
    {
      "cell_type": "code",
      "metadata": {
        "id": "RgXuN_K4ClmY"
      },
      "source": [
        "# ここに自作問題の回答（pythonプログラム）を書いてください"
      ],
      "execution_count": null,
      "outputs": []
    },
    {
      "cell_type": "markdown",
      "metadata": {
        "id": "SLSpYs0aClqP"
      },
      "source": [
        "第28問\n",
        "次の問題に答えなさい\n",
        "\n",
        "(ここから以降に自作問題を書いてください)"
      ]
    },
    {
      "cell_type": "code",
      "metadata": {
        "id": "QxPLN78VClqP"
      },
      "source": [
        "# ここに自作問題の回答（pythonプログラム）を書いてください"
      ],
      "execution_count": null,
      "outputs": []
    },
    {
      "cell_type": "markdown",
      "metadata": {
        "id": "Vce9O4iZCluQ"
      },
      "source": [
        "第29問\n",
        "次の問題に答えなさい\n",
        "\n",
        "(ここから以降に自作問題を書いてください)"
      ]
    },
    {
      "cell_type": "code",
      "metadata": {
        "id": "OZswT3aBCluQ"
      },
      "source": [
        "# ここに自作問題の回答（pythonプログラム）を書いてください"
      ],
      "execution_count": null,
      "outputs": []
    },
    {
      "cell_type": "markdown",
      "metadata": {
        "id": "ZftNB5RAClxu"
      },
      "source": [
        "第30問\n",
        "次の問題に答えなさい\n",
        "\n",
        "(ここから以降に自作問題を書いてください)"
      ]
    },
    {
      "cell_type": "code",
      "metadata": {
        "id": "RyBB2-7ZClxu"
      },
      "source": [
        "# ここに自作問題の回答（pythonプログラム）を書いてください"
      ],
      "execution_count": null,
      "outputs": []
    },
    {
      "cell_type": "markdown",
      "metadata": {
        "id": "vF0Qhpj1Cl1f"
      },
      "source": [
        "第31問\n",
        "次の問題に答えなさい\n",
        "\n",
        "(ここから以降に自作問題を書いてください)"
      ]
    },
    {
      "cell_type": "code",
      "metadata": {
        "id": "Qr55j_0SCl1f"
      },
      "source": [
        "# ここに自作問題の回答（pythonプログラム）を書いてください"
      ],
      "execution_count": null,
      "outputs": []
    },
    {
      "cell_type": "markdown",
      "metadata": {
        "id": "KNdTbducCl5J"
      },
      "source": [
        "第32問\n",
        "次の問題に答えなさい\n",
        "\n",
        "(ここから以降に自作問題を書いてください)"
      ]
    },
    {
      "cell_type": "code",
      "metadata": {
        "id": "r2LU7OkSCl5J"
      },
      "source": [
        "# ここに自作問題の回答（pythonプログラム）を書いてください"
      ],
      "execution_count": null,
      "outputs": []
    },
    {
      "cell_type": "markdown",
      "metadata": {
        "id": "tm5QeRQqCl9J"
      },
      "source": [
        "第33問\n",
        "次の問題に答えなさい\n",
        "\n",
        "(ここから以降に自作問題を書いてください)"
      ]
    },
    {
      "cell_type": "code",
      "metadata": {
        "id": "yuzO-GiLCl9J"
      },
      "source": [
        "# ここに自作問題の回答（pythonプログラム）を書いてください"
      ],
      "execution_count": null,
      "outputs": []
    },
    {
      "cell_type": "markdown",
      "metadata": {
        "id": "LhOPygFVCmAg"
      },
      "source": [
        "第34問\n",
        "次の問題に答えなさい\n",
        "\n",
        "(ここから以降に自作問題を書いてください)"
      ]
    },
    {
      "cell_type": "code",
      "metadata": {
        "id": "SMWVrsqbCmAh"
      },
      "source": [
        "# ここに自作問題の回答（pythonプログラム）を書いてください"
      ],
      "execution_count": null,
      "outputs": []
    },
    {
      "cell_type": "markdown",
      "metadata": {
        "id": "F_r-66J3CmEY"
      },
      "source": [
        "第35問\n",
        "次の問題に答えなさい\n",
        "\n",
        "(ここから以降に自作問題を書いてください)"
      ]
    },
    {
      "cell_type": "code",
      "metadata": {
        "id": "FsjXRLasCmEZ"
      },
      "source": [
        "# ここに自作問題の回答（pythonプログラム）を書いてください"
      ],
      "execution_count": null,
      "outputs": []
    },
    {
      "cell_type": "markdown",
      "metadata": {
        "id": "KAHzjc6bCmH3"
      },
      "source": [
        "第36問\n",
        "次の問題に答えなさい\n",
        "\n",
        "(ここから以降に自作問題を書いてください)"
      ]
    },
    {
      "cell_type": "code",
      "metadata": {
        "id": "stK2Ls0vCmH4"
      },
      "source": [
        "# ここに自作問題の回答（pythonプログラム）を書いてください"
      ],
      "execution_count": null,
      "outputs": []
    },
    {
      "cell_type": "markdown",
      "metadata": {
        "id": "LX93NyY5CmLW"
      },
      "source": [
        "第37問\n",
        "次の問題に答えなさい\n",
        "\n",
        "(ここから以降に自作問題を書いてください)"
      ]
    },
    {
      "cell_type": "code",
      "metadata": {
        "id": "bxpZGluZCmLX"
      },
      "source": [
        "# ここに自作問題の回答（pythonプログラム）を書いてください"
      ],
      "execution_count": null,
      "outputs": []
    },
    {
      "cell_type": "markdown",
      "metadata": {
        "id": "QZYQScAXCmOm"
      },
      "source": [
        "第38問\n",
        "次の問題に答えなさい\n",
        "\n",
        "(ここから以降に自作問題を書いてください)"
      ]
    },
    {
      "cell_type": "code",
      "metadata": {
        "id": "YpZbaaMxCmOn"
      },
      "source": [
        "# ここに自作問題の回答（pythonプログラム）を書いてください"
      ],
      "execution_count": null,
      "outputs": []
    },
    {
      "cell_type": "markdown",
      "metadata": {
        "id": "KGbHdS4DCmSI"
      },
      "source": [
        "第39問\n",
        "次の問題に答えなさい\n",
        "\n",
        "(ここから以降に自作問題を書いてください)"
      ]
    },
    {
      "cell_type": "code",
      "metadata": {
        "id": "9aDa4fWqCmSI"
      },
      "source": [
        "# ここに自作問題の回答（pythonプログラム）を書いてください"
      ],
      "execution_count": null,
      "outputs": []
    },
    {
      "cell_type": "markdown",
      "metadata": {
        "id": "RI97GLXlCmVm"
      },
      "source": [
        "第40問\n",
        "次の問題に答えなさい\n",
        "\n",
        "(ここから以降に自作問題を書いてください)"
      ]
    },
    {
      "cell_type": "code",
      "metadata": {
        "id": "VDnwESVXCmVm"
      },
      "source": [
        "# ここに自作問題の回答（pythonプログラム）を書いてください"
      ],
      "execution_count": null,
      "outputs": []
    },
    {
      "cell_type": "markdown",
      "metadata": {
        "id": "nbz9F0bfCmZX"
      },
      "source": [
        "第41問\n",
        "次の問題に答えなさい\n",
        "\n",
        "(ここから以降に自作問題を書いてください)"
      ]
    },
    {
      "cell_type": "code",
      "metadata": {
        "id": "8e64ZEHkCmZX"
      },
      "source": [
        "# ここに自作問題の回答（pythonプログラム）を書いてください"
      ],
      "execution_count": null,
      "outputs": []
    },
    {
      "cell_type": "markdown",
      "metadata": {
        "id": "QBsk0XxUCmcv"
      },
      "source": [
        "第42問\n",
        "次の問題に答えなさい\n",
        "\n",
        "(ここから以降に自作問題を書いてください)"
      ]
    },
    {
      "cell_type": "code",
      "metadata": {
        "id": "iWLwv_TNCmcv"
      },
      "source": [
        "# ここに自作問題の回答（pythonプログラム）を書いてください"
      ],
      "execution_count": null,
      "outputs": []
    },
    {
      "cell_type": "markdown",
      "metadata": {
        "id": "1iU3hCm6Cmf-"
      },
      "source": [
        "第43問\n",
        "次の問題に答えなさい\n",
        "\n",
        "(ここから以降に自作問題を書いてください)"
      ]
    },
    {
      "cell_type": "code",
      "metadata": {
        "id": "SbkPYm-PCmf_"
      },
      "source": [
        "# ここに自作問題の回答（pythonプログラム）を書いてください"
      ],
      "execution_count": null,
      "outputs": []
    },
    {
      "cell_type": "markdown",
      "metadata": {
        "id": "A9EXnwQMCnFv"
      },
      "source": [
        "第44問\n",
        "次の問題に答えなさい\n",
        "\n",
        "(ここから以降に自作問題を書いてください)"
      ]
    },
    {
      "cell_type": "code",
      "metadata": {
        "id": "9UkL4uqtCnFw"
      },
      "source": [
        "# ここに自作問題の回答（pythonプログラム）を書いてください"
      ],
      "execution_count": null,
      "outputs": []
    },
    {
      "cell_type": "markdown",
      "metadata": {
        "id": "KZkEBnGYCnMv"
      },
      "source": [
        "第45問\n",
        "次の問題に答えなさい\n",
        "\n",
        "(ここから以降に自作問題を書いてください)"
      ]
    },
    {
      "cell_type": "code",
      "metadata": {
        "id": "wv_sPBaUCnMv"
      },
      "source": [
        "# ここに自作問題の回答（pythonプログラム）を書いてください"
      ],
      "execution_count": null,
      "outputs": []
    },
    {
      "cell_type": "markdown",
      "metadata": {
        "id": "r9ROzv5wCnQZ"
      },
      "source": [
        "第46問\n",
        "次の問題に答えなさい\n",
        "\n",
        "(ここから以降に自作問題を書いてください)\n",
        "\n",
        "キーボードから入力された西暦が令和のとき，和暦に変換するプログラムを作成せよ．\n",
        "\n",
        "例）2021と入力された場合「令和3年」と出力．\n",
        "例）1085と入力された場合は「令和ではない」と出力．"
      ]
    },
    {
      "cell_type": "code",
      "metadata": {
        "id": "cSUx9Z4dCnQZ",
        "colab": {
          "base_uri": "https://localhost:8080/"
        },
        "outputId": "a18ce333-392e-4576-8d4f-6d8fc579fa4c"
      },
      "source": [
        "# ここに自作問題の回答（pythonプログラム）を書いてください\n",
        "a=input()\n",
        "if int(a)>=2019:\n",
        "  b=int(a)-2018\n",
        "  print('令和'+str(b)+'年')\n",
        "else:\n",
        "  print('令和ではない')"
      ],
      "execution_count": null,
      "outputs": [
        {
          "output_type": "stream",
          "name": "stdout",
          "text": [
            "2019\n",
            "令和1年\n"
          ]
        }
      ]
    },
    {
      "cell_type": "markdown",
      "metadata": {
        "id": "wufgFoJOCnTw"
      },
      "source": [
        "第47問\n",
        "次の問題に答えなさい\n",
        "\n",
        "(ここから以降に自作問題を書いてください)"
      ]
    },
    {
      "cell_type": "code",
      "metadata": {
        "id": "Qsz4q4IQCnTw"
      },
      "source": [
        "# ここに自作問題の回答（pythonプログラム）を書いてください"
      ],
      "execution_count": null,
      "outputs": []
    },
    {
      "cell_type": "markdown",
      "metadata": {
        "id": "o-QfM5RsCnXH"
      },
      "source": [
        "第48問\n",
        "次の問題に答えなさい\n",
        "\n",
        "(ここから以降に自作問題を書いてください)"
      ]
    },
    {
      "cell_type": "code",
      "metadata": {
        "id": "VbrzO26lCnXH"
      },
      "source": [
        "# ここに自作問題の回答（pythonプログラム）を書いてください"
      ],
      "execution_count": null,
      "outputs": []
    },
    {
      "cell_type": "markdown",
      "metadata": {
        "id": "8O-SgOx2CnaX"
      },
      "source": [
        "第49問\n",
        "次の問題に答えなさい\n",
        "\n",
        "(ここから以降に自作問題を書いてください)"
      ]
    },
    {
      "cell_type": "code",
      "metadata": {
        "id": "gg7y0UIFCnaY"
      },
      "source": [
        "# ここに自作問題の回答（pythonプログラム）を書いてください"
      ],
      "execution_count": null,
      "outputs": []
    },
    {
      "cell_type": "markdown",
      "source": [
        "# 第50問～第99問"
      ],
      "metadata": {
        "id": "SGbw9C59xAv9"
      }
    },
    {
      "cell_type": "markdown",
      "metadata": {
        "id": "BGKAdavjCndn"
      },
      "source": [
        "第50問\n",
        "次の問題に答えなさい\n",
        "\n",
        "(ここから以降に自作問題を書いてください)"
      ]
    },
    {
      "cell_type": "code",
      "metadata": {
        "id": "kQTzgBq1Cndn"
      },
      "source": [
        "# ここに自作問題の回答（pythonプログラム）を書いてください"
      ],
      "execution_count": null,
      "outputs": []
    },
    {
      "cell_type": "markdown",
      "metadata": {
        "id": "uberHiumCnif"
      },
      "source": [
        "第51問\n",
        "次の問題に答えなさい\n",
        "\n",
        "(ここから以降に自作問題を書いてください)"
      ]
    },
    {
      "cell_type": "code",
      "metadata": {
        "id": "f4nkLyM0Cnif"
      },
      "source": [
        "# ここに自作問題の回答（pythonプログラム）を書いてください"
      ],
      "execution_count": null,
      "outputs": []
    },
    {
      "cell_type": "markdown",
      "metadata": {
        "id": "DSz81KJqCnmH"
      },
      "source": [
        "第52問\n",
        "次の問題に答えなさい\n",
        "\n",
        "(ここから以降に自作問題を書いてください)"
      ]
    },
    {
      "cell_type": "code",
      "metadata": {
        "id": "J2HSytTyCnmH"
      },
      "source": [
        "# ここに自作問題の回答（pythonプログラム）を書いてください"
      ],
      "execution_count": null,
      "outputs": []
    },
    {
      "cell_type": "markdown",
      "metadata": {
        "id": "FmTuCd4PCnpP"
      },
      "source": [
        "第53問\n",
        "次の問題に答えなさい\n",
        "\n",
        "(ここから以降に自作問題を書いてください)"
      ]
    },
    {
      "cell_type": "code",
      "metadata": {
        "id": "jVTOevemCnpP"
      },
      "source": [
        "# ここに自作問題の回答（pythonプログラム）を書いてください"
      ],
      "execution_count": null,
      "outputs": []
    },
    {
      "cell_type": "markdown",
      "metadata": {
        "id": "QLxtba1LCnsg"
      },
      "source": [
        "第54問\n",
        "次の問題に答えなさい\n",
        "\n",
        "(ここから以降に自作問題を書いてください)"
      ]
    },
    {
      "cell_type": "code",
      "metadata": {
        "id": "rjnmamrQCnsg"
      },
      "source": [
        "# ここに自作問題の回答（pythonプログラム）を書いてください"
      ],
      "execution_count": null,
      "outputs": []
    },
    {
      "cell_type": "markdown",
      "metadata": {
        "id": "TSg8AHy0Cnvw"
      },
      "source": [
        "第55問\n",
        "次の問題に答えなさい\n",
        "\n",
        "(ここから以降に自作問題を書いてください)"
      ]
    },
    {
      "cell_type": "code",
      "metadata": {
        "id": "wiBm_iQnCnvw"
      },
      "source": [
        "# ここに自作問題の回答（pythonプログラム）を書いてください"
      ],
      "execution_count": null,
      "outputs": []
    },
    {
      "cell_type": "markdown",
      "metadata": {
        "id": "m0SL3J7TCnzR"
      },
      "source": [
        "第56問\n",
        "次の問題に答えなさい\n",
        "\n",
        "(ここから以降に自作問題を書いてください)"
      ]
    },
    {
      "cell_type": "code",
      "metadata": {
        "id": "5C2GAXfOCnzR"
      },
      "source": [
        "# ここに自作問題の回答（pythonプログラム）を書いてください"
      ],
      "execution_count": null,
      "outputs": []
    },
    {
      "cell_type": "markdown",
      "metadata": {
        "id": "JBq16xsPCn2w"
      },
      "source": [
        "第57問\n",
        "次の問題に答えなさい\n",
        "\n",
        "(ここから以降に自作問題を書いてください)"
      ]
    },
    {
      "cell_type": "code",
      "metadata": {
        "id": "xx5JKqkzCn2w"
      },
      "source": [
        "# ここに自作問題の回答（pythonプログラム）を書いてください"
      ],
      "execution_count": null,
      "outputs": []
    },
    {
      "cell_type": "markdown",
      "metadata": {
        "id": "WwVrceeECn6E"
      },
      "source": [
        "第58問\n",
        "次の問題に答えなさい\n",
        "\n",
        "(ここから以降に自作問題を書いてください)"
      ]
    },
    {
      "cell_type": "code",
      "metadata": {
        "id": "689Nr15UCn6E"
      },
      "source": [
        "# ここに自作問題の回答（pythonプログラム）を書いてください"
      ],
      "execution_count": null,
      "outputs": []
    },
    {
      "cell_type": "markdown",
      "metadata": {
        "id": "W4Ktn-7rCn9A"
      },
      "source": [
        "第59問\n",
        "次の問題に答えなさい\n",
        "\n",
        "(ここから以降に自作問題を書いてください)"
      ]
    },
    {
      "cell_type": "code",
      "metadata": {
        "id": "MFxa3-peCn9B"
      },
      "source": [
        "# ここに自作問題の回答（pythonプログラム）を書いてください"
      ],
      "execution_count": null,
      "outputs": []
    },
    {
      "cell_type": "markdown",
      "metadata": {
        "id": "zwBIl1ZfCoAY"
      },
      "source": [
        "第60問\n",
        "次の問題に答えなさい\n",
        "\n",
        "(ここから以降に自作問題を書いてください)"
      ]
    },
    {
      "cell_type": "code",
      "metadata": {
        "id": "l2YLGPttCoAY"
      },
      "source": [
        "# ここに自作問題の回答（pythonプログラム）を書いてください"
      ],
      "execution_count": null,
      "outputs": []
    },
    {
      "cell_type": "markdown",
      "metadata": {
        "id": "4Vr2AlNnCoIB"
      },
      "source": [
        "第61問\n",
        "次の問題に答えなさい\n",
        "\n",
        "(ここから以降に自作問題を書いてください)"
      ]
    },
    {
      "cell_type": "code",
      "metadata": {
        "id": "lhGvw7_UCoIB"
      },
      "source": [
        "# ここに自作問題の回答（pythonプログラム）を書いてください"
      ],
      "execution_count": null,
      "outputs": []
    },
    {
      "cell_type": "markdown",
      "metadata": {
        "id": "S1TjSlQ0CoK3"
      },
      "source": [
        "第62問\n",
        "次の問題に答えなさい\n",
        "\n",
        "(ここから以降に自作問題を書いてください)"
      ]
    },
    {
      "cell_type": "code",
      "metadata": {
        "id": "MP-LqhXmCoK4"
      },
      "source": [
        "# ここに自作問題の回答（pythonプログラム）を書いてください"
      ],
      "execution_count": null,
      "outputs": []
    },
    {
      "cell_type": "markdown",
      "metadata": {
        "id": "a9FMwFwTCoNg"
      },
      "source": [
        "第63問\n",
        "次の問題に答えなさい\n",
        "\n",
        "(ここから以降に自作問題を書いてください)"
      ]
    },
    {
      "cell_type": "code",
      "metadata": {
        "id": "1Ih80lAHCoNg"
      },
      "source": [
        "# ここに自作問題の回答（pythonプログラム）を書いてください"
      ],
      "execution_count": null,
      "outputs": []
    },
    {
      "cell_type": "markdown",
      "metadata": {
        "id": "KF2T7F8iCoQX"
      },
      "source": [
        "第64問\n",
        "次の問題に答えなさい\n",
        "\n",
        "(ここから以降に自作問題を書いてください)"
      ]
    },
    {
      "cell_type": "code",
      "metadata": {
        "id": "vV6Qu7p6CoQY"
      },
      "source": [
        "# ここに自作問題の回答（pythonプログラム）を書いてください"
      ],
      "execution_count": null,
      "outputs": []
    },
    {
      "cell_type": "markdown",
      "metadata": {
        "id": "zJkc-6KiCoTX"
      },
      "source": [
        "第65問\n",
        "次の問題に答えなさい\n",
        "\n",
        "(ここから以降に自作問題を書いてください)"
      ]
    },
    {
      "cell_type": "code",
      "metadata": {
        "id": "C61G0T6dCoTX"
      },
      "source": [
        "# ここに自作問題の回答（pythonプログラム）を書いてください"
      ],
      "execution_count": null,
      "outputs": []
    },
    {
      "cell_type": "markdown",
      "metadata": {
        "id": "QHkN8npGCoWW"
      },
      "source": [
        "第66問\n",
        "次の問題に答えなさい\n",
        "\n",
        "(ここから以降に自作問題を書いてください)"
      ]
    },
    {
      "cell_type": "code",
      "metadata": {
        "id": "wxIIzmH1CoWW"
      },
      "source": [
        "# ここに自作問題の回答（pythonプログラム）を書いてください"
      ],
      "execution_count": null,
      "outputs": []
    },
    {
      "cell_type": "markdown",
      "metadata": {
        "id": "B9nKoZfiCoZn"
      },
      "source": [
        "第67問\n",
        "次の問題に答えなさい\n",
        "\n",
        "(ここから以降に自作問題を書いてください)"
      ]
    },
    {
      "cell_type": "code",
      "metadata": {
        "id": "V3LaTdGsCoZn"
      },
      "source": [
        "# ここに自作問題の回答（pythonプログラム）を書いてください"
      ],
      "execution_count": null,
      "outputs": []
    },
    {
      "cell_type": "markdown",
      "metadata": {
        "id": "r64CjW7dCoc3"
      },
      "source": [
        "第68問\n",
        "次の問題に答えなさい\n",
        "\n",
        "(ここから以降に自作問題を書いてください)"
      ]
    },
    {
      "cell_type": "code",
      "metadata": {
        "id": "g1M1cMBFCoc3"
      },
      "source": [
        "# ここに自作問題の回答（pythonプログラム）を書いてください"
      ],
      "execution_count": null,
      "outputs": []
    },
    {
      "cell_type": "markdown",
      "metadata": {
        "id": "788opQI3CogD"
      },
      "source": [
        "第69問\n",
        "次の問題に答えなさい\n",
        "\n",
        "(ここから以降に自作問題を書いてください)"
      ]
    },
    {
      "cell_type": "code",
      "metadata": {
        "id": "Xqn3963ZCogE"
      },
      "source": [
        "# ここに自作問題の回答（pythonプログラム）を書いてください"
      ],
      "execution_count": null,
      "outputs": []
    },
    {
      "cell_type": "markdown",
      "metadata": {
        "id": "J3hsd9MQCojX"
      },
      "source": [
        "第70問\n",
        "次の問題に答えなさい\n",
        "\n",
        "(ここから以降に自作問題を書いてください)"
      ]
    },
    {
      "cell_type": "code",
      "metadata": {
        "id": "WoWe-qsSCojX"
      },
      "source": [
        "# ここに自作問題の回答（pythonプログラム）を書いてください"
      ],
      "execution_count": null,
      "outputs": []
    },
    {
      "cell_type": "markdown",
      "metadata": {
        "id": "i-DV3dJbCoog"
      },
      "source": [
        "第71問\n",
        "次の問題に答えなさい\n",
        "\n",
        "(ここから以降に自作問題を書いてください)"
      ]
    },
    {
      "cell_type": "code",
      "metadata": {
        "id": "a4pqBQjaCoog"
      },
      "source": [
        "# ここに自作問題の回答（pythonプログラム）を書いてください"
      ],
      "execution_count": null,
      "outputs": []
    },
    {
      "cell_type": "markdown",
      "metadata": {
        "id": "FvmbHI-FCoq_"
      },
      "source": [
        "第72問\n",
        "次の問題に答えなさい\n",
        "\n",
        "(ここから以降に自作問題を書いてください)"
      ]
    },
    {
      "cell_type": "code",
      "metadata": {
        "id": "V3EjZ9xmCoq_"
      },
      "source": [
        "# ここに自作問題の回答（pythonプログラム）を書いてください"
      ],
      "execution_count": null,
      "outputs": []
    },
    {
      "cell_type": "markdown",
      "metadata": {
        "id": "psSQlOtOCotv"
      },
      "source": [
        "第73問\n",
        "次の問題に答えなさい\n",
        "\n",
        "(ここから以降に自作問題を書いてください)"
      ]
    },
    {
      "cell_type": "code",
      "metadata": {
        "id": "6X7cNmF6Cotw"
      },
      "source": [
        "# ここに自作問題の回答（pythonプログラム）を書いてください"
      ],
      "execution_count": null,
      "outputs": []
    },
    {
      "cell_type": "markdown",
      "metadata": {
        "id": "_6dKdmZ7CowP"
      },
      "source": [
        "第74問\n",
        "次の問題に答えなさい\n",
        "\n",
        "(ここから以降に自作問題を書いてください)"
      ]
    },
    {
      "cell_type": "code",
      "metadata": {
        "id": "41LCFZc0CowP"
      },
      "source": [
        "# ここに自作問題の回答（pythonプログラム）を書いてください"
      ],
      "execution_count": null,
      "outputs": []
    },
    {
      "cell_type": "markdown",
      "metadata": {
        "id": "FU9-Ljp1CozG"
      },
      "source": [
        "第75問\n",
        "次の問題に答えなさい\n",
        "\n",
        "(ここから以降に自作問題を書いてください)"
      ]
    },
    {
      "cell_type": "code",
      "metadata": {
        "id": "AQ6b0b8jCozH"
      },
      "source": [
        "# ここに自作問題の回答（pythonプログラム）を書いてください"
      ],
      "execution_count": null,
      "outputs": []
    },
    {
      "cell_type": "markdown",
      "metadata": {
        "id": "JZP4aTvwCo1-"
      },
      "source": [
        "第76問\n",
        "次の問題に答えなさい\n",
        "\n",
        "(ここから以降に自作問題を書いてください)"
      ]
    },
    {
      "cell_type": "code",
      "metadata": {
        "id": "RPtdoJIHCo1_"
      },
      "source": [
        "# ここに自作問題の回答（pythonプログラム）を書いてください"
      ],
      "execution_count": null,
      "outputs": []
    },
    {
      "cell_type": "markdown",
      "metadata": {
        "id": "2L88TkJVCo4v"
      },
      "source": [
        "第77問\n",
        "次の問題に答えなさい\n",
        "\n",
        "(ここから以降に自作問題を書いてください)"
      ]
    },
    {
      "cell_type": "code",
      "metadata": {
        "id": "ZgYF6L5CCo4v"
      },
      "source": [
        "# ここに自作問題の回答（pythonプログラム）を書いてください"
      ],
      "execution_count": null,
      "outputs": []
    },
    {
      "cell_type": "markdown",
      "metadata": {
        "id": "YjoxA-4tCo7f"
      },
      "source": [
        "第78問\n",
        "次の問題に答えなさい\n",
        "\n",
        "(ここから以降に自作問題を書いてください)"
      ]
    },
    {
      "cell_type": "code",
      "metadata": {
        "id": "JadLop7GCo7f"
      },
      "source": [
        "# ここに自作問題の回答（pythonプログラム）を書いてください"
      ],
      "execution_count": null,
      "outputs": []
    },
    {
      "cell_type": "markdown",
      "metadata": {
        "id": "oHq46_RxCo-X"
      },
      "source": [
        "第79問\n",
        "次の問題に答えなさい\n",
        "\n",
        "(ここから以降に自作問題を書いてください)"
      ]
    },
    {
      "cell_type": "code",
      "metadata": {
        "id": "PaOC3kaUCo-X"
      },
      "source": [
        "# ここに自作問題の回答（pythonプログラム）を書いてください"
      ],
      "execution_count": null,
      "outputs": []
    },
    {
      "cell_type": "markdown",
      "metadata": {
        "id": "pRulxaS9CpBN"
      },
      "source": [
        "第80問\n",
        "次の問題に答えなさい\n",
        "\n",
        "(ここから以降に自作問題を書いてください)"
      ]
    },
    {
      "cell_type": "code",
      "metadata": {
        "id": "yM-qN71pCpBN"
      },
      "source": [
        "# ここに自作問題の回答（pythonプログラム）を書いてください"
      ],
      "execution_count": null,
      "outputs": []
    },
    {
      "cell_type": "markdown",
      "metadata": {
        "id": "55A_p-9vCpFw"
      },
      "source": [
        "第81問\n",
        "次の問題に答えなさい\n",
        "\n",
        "(ここから以降に自作問題を書いてください)"
      ]
    },
    {
      "cell_type": "code",
      "metadata": {
        "id": "57Zs7MgoCpFw"
      },
      "source": [
        "# ここに自作問題の回答（pythonプログラム）を書いてください"
      ],
      "execution_count": null,
      "outputs": []
    },
    {
      "cell_type": "markdown",
      "metadata": {
        "id": "0LgkDyrYCpIf"
      },
      "source": [
        "第82問\n",
        "次の問題に答えなさい\n",
        "\n",
        "(ここから以降に自作問題を書いてください)"
      ]
    },
    {
      "cell_type": "code",
      "metadata": {
        "id": "-5II-EUoCpIg"
      },
      "source": [
        "# ここに自作問題の回答（pythonプログラム）を書いてください"
      ],
      "execution_count": null,
      "outputs": []
    },
    {
      "cell_type": "markdown",
      "metadata": {
        "id": "eLE5sRWiCpLP"
      },
      "source": [
        "第83問\n",
        "次の問題に答えなさい\n",
        "\n",
        "(ここから以降に自作問題を書いてください)"
      ]
    },
    {
      "cell_type": "code",
      "metadata": {
        "id": "s6GpS04GCpLP"
      },
      "source": [
        "# ここに自作問題の回答（pythonプログラム）を書いてください"
      ],
      "execution_count": null,
      "outputs": []
    },
    {
      "cell_type": "markdown",
      "metadata": {
        "id": "oYQ_smnaCpOB"
      },
      "source": [
        "第84問\n",
        "次の問題に答えなさい\n",
        "\n",
        "(ここから以降に自作問題を書いてください)"
      ]
    },
    {
      "cell_type": "code",
      "metadata": {
        "id": "bP4U1K12CpOB"
      },
      "source": [
        "# ここに自作問題の回答（pythonプログラム）を書いてください"
      ],
      "execution_count": null,
      "outputs": []
    },
    {
      "cell_type": "markdown",
      "metadata": {
        "id": "zFMewCBnCpRB"
      },
      "source": [
        "第85問\n",
        "次の問題に答えなさい\n",
        "\n",
        "(ここから以降に自作問題を書いてください)"
      ]
    },
    {
      "cell_type": "code",
      "metadata": {
        "id": "MLNtILAUCpRB"
      },
      "source": [
        "# ここに自作問題の回答（pythonプログラム）を書いてください"
      ],
      "execution_count": null,
      "outputs": []
    },
    {
      "cell_type": "markdown",
      "metadata": {
        "id": "arrPQRq1CpT4"
      },
      "source": [
        "第86問\n",
        "次の問題に答えなさい\n",
        "\n",
        "(ここから以降に自作問題を書いてください)"
      ]
    },
    {
      "cell_type": "code",
      "metadata": {
        "id": "L8XTr5qXCpT4"
      },
      "source": [
        "# ここに自作問題の回答（pythonプログラム）を書いてください"
      ],
      "execution_count": null,
      "outputs": []
    },
    {
      "cell_type": "markdown",
      "metadata": {
        "id": "NPNGJ60kCpWn"
      },
      "source": [
        "第87問\n",
        "次の問題に答えなさい\n",
        "\n",
        "(ここから以降に自作問題を書いてください)"
      ]
    },
    {
      "cell_type": "code",
      "metadata": {
        "id": "J5C0oxWyCpWn"
      },
      "source": [
        "# ここに自作問題の回答（pythonプログラム）を書いてください"
      ],
      "execution_count": null,
      "outputs": []
    },
    {
      "cell_type": "markdown",
      "metadata": {
        "id": "YVW539UCCpZe"
      },
      "source": [
        "第88問\n",
        "次の問題に答えなさい\n",
        "\n",
        "(ここから以降に自作問題を書いてください)"
      ]
    },
    {
      "cell_type": "code",
      "metadata": {
        "id": "Flb3ya0bCpZf"
      },
      "source": [
        "# ここに自作問題の回答（pythonプログラム）を書いてください"
      ],
      "execution_count": null,
      "outputs": []
    },
    {
      "cell_type": "markdown",
      "metadata": {
        "id": "Rti1QGtKCpcv"
      },
      "source": [
        "第89問\n",
        "次の問題に答えなさい\n",
        "\n",
        "(ここから以降に自作問題を書いてください)"
      ]
    },
    {
      "cell_type": "code",
      "metadata": {
        "id": "b1DXAV-NCpcv"
      },
      "source": [
        "# ここに自作問題の回答（pythonプログラム）を書いてください"
      ],
      "execution_count": null,
      "outputs": []
    },
    {
      "cell_type": "markdown",
      "metadata": {
        "id": "chv9je-9Cpfm"
      },
      "source": [
        "第90問\n",
        "次の問題に答えなさい\n",
        "\n",
        "(ここから以降に自作問題を書いてください)"
      ]
    },
    {
      "cell_type": "code",
      "metadata": {
        "id": "1xLoA-bECpfn"
      },
      "source": [
        "# ここに自作問題の回答（pythonプログラム）を書いてください"
      ],
      "execution_count": null,
      "outputs": []
    },
    {
      "cell_type": "markdown",
      "metadata": {
        "id": "SFv1X6_-Cpsv"
      },
      "source": [
        "第91問\n",
        "次の問題に答えなさい\n",
        "\n",
        "(ここから以降に自作問題を書いてください)"
      ]
    },
    {
      "cell_type": "code",
      "metadata": {
        "id": "oRMioxL0Cpsv"
      },
      "source": [
        "# ここに自作問題の回答（pythonプログラム）を書いてください"
      ],
      "execution_count": null,
      "outputs": []
    },
    {
      "cell_type": "markdown",
      "metadata": {
        "id": "QV91yV_DCpvn"
      },
      "source": [
        "第92問\n",
        "次の問題に答えなさい\n",
        "\n",
        "(ここから以降に自作問題を書いてください)"
      ]
    },
    {
      "cell_type": "code",
      "metadata": {
        "id": "FkCIRgvYCpvn"
      },
      "source": [
        "# ここに自作問題の回答（pythonプログラム）を書いてください"
      ],
      "execution_count": null,
      "outputs": []
    },
    {
      "cell_type": "markdown",
      "metadata": {
        "id": "4I1nOMiDCpyH"
      },
      "source": [
        "第93問\n",
        "次の問題に答えなさい\n",
        "\n",
        "(ここから以降に自作問題を書いてください)"
      ]
    },
    {
      "cell_type": "code",
      "metadata": {
        "id": "BPR-1NdPCpyH"
      },
      "source": [
        "# ここに自作問題の回答（pythonプログラム）を書いてください"
      ],
      "execution_count": null,
      "outputs": []
    },
    {
      "cell_type": "markdown",
      "metadata": {
        "id": "RxtWdLZZCp1P"
      },
      "source": [
        "第94問\n",
        "次の問題に答えなさい\n",
        "\n",
        "(ここから以降に自作問題を書いてください)"
      ]
    },
    {
      "cell_type": "code",
      "metadata": {
        "id": "2nZfZtcOCp1P"
      },
      "source": [
        "# ここに自作問題の回答（pythonプログラム）を書いてください"
      ],
      "execution_count": null,
      "outputs": []
    },
    {
      "cell_type": "markdown",
      "metadata": {
        "id": "lANIB_k_Cp4X"
      },
      "source": [
        "第95問\n",
        "次の問題に答えなさい\n",
        "\n",
        "(ここから以降に自作問題を書いてください)"
      ]
    },
    {
      "cell_type": "code",
      "metadata": {
        "id": "EYOywW-tCp4X"
      },
      "source": [
        "# ここに自作問題の回答（pythonプログラム）を書いてください"
      ],
      "execution_count": null,
      "outputs": []
    },
    {
      "cell_type": "markdown",
      "metadata": {
        "id": "CnnHzLN8Cp7g"
      },
      "source": [
        "第96問\n",
        "次の問題に答えなさい\n",
        "\n",
        "(ここから以降に自作問題を書いてください)"
      ]
    },
    {
      "cell_type": "code",
      "metadata": {
        "id": "MNkQ0-F6Cp7h"
      },
      "source": [
        "# ここに自作問題の回答（pythonプログラム）を書いてください"
      ],
      "execution_count": null,
      "outputs": []
    },
    {
      "cell_type": "markdown",
      "metadata": {
        "id": "6KPJxOFZCp-f"
      },
      "source": [
        "第97問\n",
        "次の問題に答えなさい\n",
        "\n",
        "(ここから以降に自作問題を書いてください)"
      ]
    },
    {
      "cell_type": "code",
      "metadata": {
        "id": "zB8lcp65Cp-f"
      },
      "source": [
        "# ここに自作問題の回答（pythonプログラム）を書いてください"
      ],
      "execution_count": null,
      "outputs": []
    },
    {
      "cell_type": "markdown",
      "metadata": {
        "id": "pK9egZ1ICqBf"
      },
      "source": [
        "第98問\n",
        "次の問題に答えなさい\n",
        "\n",
        "(ここから以降に自作問題を書いてください)\n",
        "\n",
        "y=2xのグラフを作りなさい"
      ]
    },
    {
      "cell_type": "code",
      "metadata": {
        "id": "CQjHU3aPCqBf",
        "outputId": "1b98b794-6f93-466c-80c4-a71476c0588b",
        "colab": {
          "base_uri": "https://localhost:8080/",
          "height": 284
        }
      },
      "source": [
        "# ここに自作問題の回答（pythonプログラム）を書いてください\n",
        "import matplotlib.pyplot as plt\n",
        "import numpy as np\n",
        "x=np.arange(-10,11,1)\n",
        "y=2*x\n",
        "plt.plot(x,y)\n",
        "plt.show()"
      ],
      "execution_count": 15,
      "outputs": [
        {
          "output_type": "stream",
          "name": "stdout",
          "text": [
            "y=2xのグラフを作れ\n"
          ]
        },
        {
          "output_type": "display_data",
          "data": {
            "image/png": "[encoded data removed]",
            "text/plain": [
              "<Figure size 432x288 with 1 Axes>"
            ]
          },
          "metadata": {
            "needs_background": "light"
          }
        }
      ]
    },
    {
      "cell_type": "markdown",
      "metadata": {
        "id": "ielgNP-NCqEq"
      },
      "source": [
        "第99問\n",
        "次の問題に答えなさい\n",
        "\n",
        "(ここから以降に自作問題を書いてください)"
      ]
    },
    {
      "cell_type": "code",
      "metadata": {
        "id": "1GvowKWoCqEr"
      },
      "source": [
        "# ここに自作問題の回答（pythonプログラム）を書いてください"
      ],
      "execution_count": null,
      "outputs": []
    },
    {
      "cell_type": "markdown",
      "source": [
        "# 第100問～第149問"
      ],
      "metadata": {
        "id": "cxgcaoojw3-m"
      }
    },
    {
      "cell_type": "markdown",
      "metadata": {
        "id": "BM1quri4CqHy"
      },
      "source": [
        "第100問\n",
        "次の問題に答えなさい\n",
        "\n",
        "(ここから以降に自作問題を書いてください)"
      ]
    },
    {
      "cell_type": "code",
      "metadata": {
        "id": "3wLMDmXzCqHy"
      },
      "source": [
        "# ここに自作問題の回答（pythonプログラム）を書いてください"
      ],
      "execution_count": null,
      "outputs": []
    },
    {
      "cell_type": "markdown",
      "metadata": {
        "id": "iG7IJlWWCqV_"
      },
      "source": [
        "第101問\n",
        "次の問題に答えなさい\n",
        "\n",
        "(ここから以降に自作問題を書いてください)"
      ]
    },
    {
      "cell_type": "code",
      "metadata": {
        "id": "CYETwOc-CqWA"
      },
      "source": [
        "# ここに自作問題の回答（pythonプログラム）を書いてください"
      ],
      "execution_count": null,
      "outputs": []
    },
    {
      "cell_type": "markdown",
      "metadata": {
        "id": "MYf61hGnCqYu"
      },
      "source": [
        "第102問\n",
        "次の問題に答えなさい\n",
        "\n",
        "(ここから以降に自作問題を書いてください)"
      ]
    },
    {
      "cell_type": "code",
      "metadata": {
        "id": "_7-SlWlfCqYu"
      },
      "source": [
        "# ここに自作問題の回答（pythonプログラム）を書いてください"
      ],
      "execution_count": null,
      "outputs": []
    },
    {
      "cell_type": "markdown",
      "metadata": {
        "id": "MLSzoLkICqbn"
      },
      "source": [
        "第103問\n",
        "次の問題に答えなさい\n",
        "\n",
        "(ここから以降に自作問題を書いてください)"
      ]
    },
    {
      "cell_type": "code",
      "metadata": {
        "id": "mD61JnBWCqbo"
      },
      "source": [
        "# ここに自作問題の回答（pythonプログラム）を書いてください"
      ],
      "execution_count": null,
      "outputs": []
    },
    {
      "cell_type": "markdown",
      "metadata": {
        "id": "wc0Y2Ji1Cqeo"
      },
      "source": [
        "第104問\n",
        "次の問題に答えなさい\n",
        "\n",
        "(ここから以降に自作問題を書いてください)"
      ]
    },
    {
      "cell_type": "code",
      "metadata": {
        "id": "ZzXQwNYeCqeo"
      },
      "source": [
        "# ここに自作問題の回答（pythonプログラム）を書いてください"
      ],
      "execution_count": null,
      "outputs": []
    },
    {
      "cell_type": "markdown",
      "metadata": {
        "id": "xowJedPRCqhw"
      },
      "source": [
        "第105問\n",
        "次の問題に答えなさい\n",
        "\n",
        "(ここから以降に自作問題を書いてください)"
      ]
    },
    {
      "cell_type": "code",
      "metadata": {
        "id": "4KKFELQXCqhw"
      },
      "source": [
        "# ここに自作問題の回答（pythonプログラム）を書いてください"
      ],
      "execution_count": null,
      "outputs": []
    },
    {
      "cell_type": "markdown",
      "metadata": {
        "id": "NlRx3DYsCqkf"
      },
      "source": [
        "第106問\n",
        "次の問題に答えなさい\n",
        "\n",
        "(ここから以降に自作問題を書いてください)"
      ]
    },
    {
      "cell_type": "code",
      "metadata": {
        "id": "sna-GqtPCqkf"
      },
      "source": [
        "# ここに自作問題の回答（pythonプログラム）を書いてください"
      ],
      "execution_count": null,
      "outputs": []
    },
    {
      "cell_type": "markdown",
      "metadata": {
        "id": "t8ASOx44CqnP"
      },
      "source": [
        "第107問\n",
        "次の問題に答えなさい\n",
        "\n",
        "(ここから以降に自作問題を書いてください)"
      ]
    },
    {
      "cell_type": "code",
      "metadata": {
        "id": "yczmY1Z5CqnP"
      },
      "source": [
        "# ここに自作問題の回答（pythonプログラム）を書いてください"
      ],
      "execution_count": null,
      "outputs": []
    },
    {
      "cell_type": "markdown",
      "metadata": {
        "id": "WuxO0BcKCqqP"
      },
      "source": [
        "第108問\n",
        "次の問題に答えなさい\n",
        "\n",
        "(ここから以降に自作問題を書いてください)"
      ]
    },
    {
      "cell_type": "code",
      "metadata": {
        "id": "bB3xnS0ECqqP"
      },
      "source": [
        "# ここに自作問題の回答（pythonプログラム）を書いてください"
      ],
      "execution_count": null,
      "outputs": []
    },
    {
      "cell_type": "markdown",
      "metadata": {
        "id": "2hjToG7YCqtO"
      },
      "source": [
        "第109問\n",
        "次の問題に答えなさい\n",
        "\n",
        "(ここから以降に自作問題を書いてください)"
      ]
    },
    {
      "cell_type": "code",
      "metadata": {
        "id": "1PxAtpuDCqtP"
      },
      "source": [
        "# ここに自作問題の回答（pythonプログラム）を書いてください"
      ],
      "execution_count": null,
      "outputs": []
    },
    {
      "cell_type": "markdown",
      "metadata": {
        "id": "NGTSHQYCCqwG"
      },
      "source": [
        "第110問\n",
        "次の問題に答えなさい\n",
        "\n",
        "(ここから以降に自作問題を書いてください)"
      ]
    },
    {
      "cell_type": "code",
      "metadata": {
        "id": "00sm01SaCqwH"
      },
      "source": [
        "# ここに自作問題の回答（pythonプログラム）を書いてください"
      ],
      "execution_count": null,
      "outputs": []
    },
    {
      "cell_type": "markdown",
      "metadata": {
        "id": "4xfirN9pCq23"
      },
      "source": [
        "第111問\n",
        "次の問題に答えなさい\n",
        "\n",
        "(ここから以降に自作問題を書いてください)"
      ]
    },
    {
      "cell_type": "code",
      "metadata": {
        "id": "XPIeAWO0Cq23"
      },
      "source": [
        "# ここに自作問題の回答（pythonプログラム）を書いてください"
      ],
      "execution_count": null,
      "outputs": []
    },
    {
      "cell_type": "markdown",
      "metadata": {
        "id": "s7duQo2ACq5v"
      },
      "source": [
        "第112問\n",
        "次の問題に答えなさい\n",
        "\n",
        "(ここから以降に自作問題を書いてください)"
      ]
    },
    {
      "cell_type": "code",
      "metadata": {
        "id": "YiC3dXIfCq5v"
      },
      "source": [
        "# ここに自作問題の回答（pythonプログラム）を書いてください"
      ],
      "execution_count": null,
      "outputs": []
    },
    {
      "cell_type": "markdown",
      "metadata": {
        "id": "3VqG9mvRCq8y"
      },
      "source": [
        "第113問\n",
        "次の問題に答えなさい\n",
        "\n",
        "(ここから以降に自作問題を書いてください)"
      ]
    },
    {
      "cell_type": "code",
      "metadata": {
        "id": "SEWPivFGCq8y"
      },
      "source": [
        "# ここに自作問題の回答（pythonプログラム）を書いてください"
      ],
      "execution_count": null,
      "outputs": []
    },
    {
      "cell_type": "markdown",
      "metadata": {
        "id": "mwemJS-oCq_o"
      },
      "source": [
        "第114問\n",
        "次の問題に答えなさい\n",
        "\n",
        "(ここから以降に自作問題を書いてください)"
      ]
    },
    {
      "cell_type": "code",
      "metadata": {
        "id": "CximyYUvCq_o"
      },
      "source": [
        "# ここに自作問題の回答（pythonプログラム）を書いてください"
      ],
      "execution_count": null,
      "outputs": []
    },
    {
      "cell_type": "markdown",
      "metadata": {
        "id": "qPddFbZmCrCe"
      },
      "source": [
        "第115問\n",
        "次の問題に答えなさい\n",
        "\n",
        "(ここから以降に自作問題を書いてください)"
      ]
    },
    {
      "cell_type": "code",
      "metadata": {
        "id": "xjMLYInGCrCf"
      },
      "source": [
        "# ここに自作問題の回答（pythonプログラム）を書いてください"
      ],
      "execution_count": null,
      "outputs": []
    },
    {
      "cell_type": "markdown",
      "metadata": {
        "id": "gttPco6UCrF4"
      },
      "source": [
        "第116問\n",
        "次の問題に答えなさい\n",
        "\n",
        "(ここから以降に自作問題を書いてください)"
      ]
    },
    {
      "cell_type": "code",
      "metadata": {
        "id": "I9jyTdlpCrF5"
      },
      "source": [
        "# ここに自作問題の回答（pythonプログラム）を書いてください"
      ],
      "execution_count": null,
      "outputs": []
    },
    {
      "cell_type": "markdown",
      "metadata": {
        "id": "HhpEiNnyCrIn"
      },
      "source": [
        "第117問\n",
        "次の問題に答えなさい\n",
        "\n",
        "(ここから以降に自作問題を書いてください)"
      ]
    },
    {
      "cell_type": "code",
      "metadata": {
        "id": "X6s7ZfOfCrIo"
      },
      "source": [
        "# ここに自作問題の回答（pythonプログラム）を書いてください"
      ],
      "execution_count": null,
      "outputs": []
    },
    {
      "cell_type": "markdown",
      "metadata": {
        "id": "y6UzHWQ5CrL4"
      },
      "source": [
        "第118問\n",
        "次の問題に答えなさい\n",
        "\n",
        "(ここから以降に自作問題を書いてください)"
      ]
    },
    {
      "cell_type": "code",
      "metadata": {
        "id": "Zju_IeWVCrL5"
      },
      "source": [
        "# ここに自作問題の回答（pythonプログラム）を書いてください"
      ],
      "execution_count": null,
      "outputs": []
    },
    {
      "cell_type": "markdown",
      "metadata": {
        "id": "2Dj79z5fCrPA"
      },
      "source": [
        "第119問\n",
        "次の問題に答えなさい\n",
        "\n",
        "(ここから以降に自作問題を書いてください)"
      ]
    },
    {
      "cell_type": "code",
      "metadata": {
        "id": "4WelHapoCrPB"
      },
      "source": [
        "# ここに自作問題の回答（pythonプログラム）を書いてください"
      ],
      "execution_count": null,
      "outputs": []
    },
    {
      "cell_type": "markdown",
      "metadata": {
        "id": "bO_CY3mzCrR_"
      },
      "source": [
        "第120問\n",
        "次の問題に答えなさい\n",
        "\n",
        "(ここから以降に自作問題を書いてください)"
      ]
    },
    {
      "cell_type": "code",
      "metadata": {
        "id": "-_NNa3F5CrR_"
      },
      "source": [
        "# ここに自作問題の回答（pythonプログラム）を書いてください"
      ],
      "execution_count": null,
      "outputs": []
    },
    {
      "cell_type": "markdown",
      "metadata": {
        "id": "DqLnhSn1CrYP"
      },
      "source": [
        "第121問\n",
        "次の問題に答えなさい\n",
        "\n",
        "(ここから以降に自作問題を書いてください)"
      ]
    },
    {
      "cell_type": "code",
      "metadata": {
        "id": "-Wnnxzy5CrYP"
      },
      "source": [
        "# ここに自作問題の回答（pythonプログラム）を書いてください"
      ],
      "execution_count": null,
      "outputs": []
    },
    {
      "cell_type": "markdown",
      "metadata": {
        "id": "KkkKhy3YCrbO"
      },
      "source": [
        "第122問\n",
        "次の問題に答えなさい\n",
        "\n",
        "(ここから以降に自作問題を書いてください)"
      ]
    },
    {
      "cell_type": "code",
      "metadata": {
        "id": "a2QCe4VBCrbO"
      },
      "source": [
        "# ここに自作問題の回答（pythonプログラム）を書いてください"
      ],
      "execution_count": null,
      "outputs": []
    },
    {
      "cell_type": "markdown",
      "metadata": {
        "id": "umEyRyXcCreP"
      },
      "source": [
        "第123問\n",
        "次の問題に答えなさい\n",
        "\n",
        "(ここから以降に自作問題を書いてください)"
      ]
    },
    {
      "cell_type": "code",
      "metadata": {
        "id": "4O8hTRm1CreP"
      },
      "source": [
        "# ここに自作問題の回答（pythonプログラム）を書いてください"
      ],
      "execution_count": null,
      "outputs": []
    },
    {
      "cell_type": "markdown",
      "metadata": {
        "id": "KwYGejn-CrhQ"
      },
      "source": [
        "第124問\n",
        "次の問題に答えなさい\n",
        "\n",
        "(ここから以降に自作問題を書いてください)"
      ]
    },
    {
      "cell_type": "code",
      "metadata": {
        "id": "B_VivzF6CrhQ"
      },
      "source": [
        "# ここに自作問題の回答（pythonプログラム）を書いてください"
      ],
      "execution_count": null,
      "outputs": []
    },
    {
      "cell_type": "markdown",
      "metadata": {
        "id": "vhsMKB9hCrkH"
      },
      "source": [
        "第125問\n",
        "次の問題に答えなさい\n",
        "\n",
        "(ここから以降に自作問題を書いてください)"
      ]
    },
    {
      "cell_type": "code",
      "metadata": {
        "id": "RJNq3ugACrkH"
      },
      "source": [
        "# ここに自作問題の回答（pythonプログラム）を書いてください"
      ],
      "execution_count": null,
      "outputs": []
    },
    {
      "cell_type": "markdown",
      "metadata": {
        "id": "Y3uq60_6CrnB"
      },
      "source": [
        "第126問\n",
        "次の問題に答えなさい\n",
        "\n",
        "(ここから以降に自作問題を書いてください)"
      ]
    },
    {
      "cell_type": "code",
      "metadata": {
        "id": "0GKPv6wQCrnC"
      },
      "source": [
        "# ここに自作問題の回答（pythonプログラム）を書いてください"
      ],
      "execution_count": null,
      "outputs": []
    },
    {
      "cell_type": "markdown",
      "metadata": {
        "id": "XN3TsDGZCrp_"
      },
      "source": [
        "第127問\n",
        "次の問題に答えなさい\n",
        "\n",
        "(ここから以降に自作問題を書いてください)"
      ]
    },
    {
      "cell_type": "code",
      "metadata": {
        "id": "znVvLmj5Crp_"
      },
      "source": [
        "# ここに自作問題の回答（pythonプログラム）を書いてください"
      ],
      "execution_count": null,
      "outputs": []
    },
    {
      "cell_type": "markdown",
      "metadata": {
        "id": "XdbC6sXkCrtX"
      },
      "source": [
        "第128問\n",
        "次の問題に答えなさい\n",
        "\n",
        "(ここから以降に自作問題を書いてください)"
      ]
    },
    {
      "cell_type": "code",
      "metadata": {
        "id": "S8qvg81yCrtY"
      },
      "source": [
        "# ここに自作問題の回答（pythonプログラム）を書いてください"
      ],
      "execution_count": null,
      "outputs": []
    },
    {
      "cell_type": "markdown",
      "metadata": {
        "id": "Z9AjRXyHCrwP"
      },
      "source": [
        "第129問\n",
        "次の問題に答えなさい\n",
        "\n",
        "(ここから以降に自作問題を書いてください)"
      ]
    },
    {
      "cell_type": "code",
      "metadata": {
        "id": "rlHlf6U3CrwQ"
      },
      "source": [
        "# ここに自作問題の回答（pythonプログラム）を書いてください"
      ],
      "execution_count": null,
      "outputs": []
    },
    {
      "cell_type": "markdown",
      "metadata": {
        "id": "CQd48-cECrzR"
      },
      "source": [
        "第130問\n",
        "次の問題に答えなさい\n",
        "\n",
        "(ここから以降に自作問題を書いてください)"
      ]
    },
    {
      "cell_type": "code",
      "metadata": {
        "id": "iG8QPyHHCrzR"
      },
      "source": [
        "# ここに自作問題の回答（pythonプログラム）を書いてください"
      ],
      "execution_count": null,
      "outputs": []
    },
    {
      "cell_type": "markdown",
      "metadata": {
        "id": "rATr9umdCr6s"
      },
      "source": [
        "第131問\n",
        "次の問題に答えなさい\n",
        "\n",
        "(ここから以降に自作問題を書いてください)"
      ]
    },
    {
      "cell_type": "code",
      "metadata": {
        "id": "Zcllq1fHCr6s"
      },
      "source": [
        "# ここに自作問題の回答（pythonプログラム）を書いてください"
      ],
      "execution_count": null,
      "outputs": []
    },
    {
      "cell_type": "markdown",
      "metadata": {
        "id": "PidDybvdCr9f"
      },
      "source": [
        "第132問\n",
        "次の問題に答えなさい\n",
        "\n",
        "(ここから以降に自作問題を書いてください)"
      ]
    },
    {
      "cell_type": "code",
      "metadata": {
        "id": "lJq8OvcjCr9g"
      },
      "source": [
        "# ここに自作問題の回答（pythonプログラム）を書いてください"
      ],
      "execution_count": null,
      "outputs": []
    },
    {
      "cell_type": "markdown",
      "metadata": {
        "id": "Vi9Lr1UNCsAf"
      },
      "source": [
        "第133問\n",
        "次の問題に答えなさい\n",
        "\n",
        "(ここから以降に自作問題を書いてください)"
      ]
    },
    {
      "cell_type": "code",
      "metadata": {
        "id": "_zIB5zJuCsAg"
      },
      "source": [
        "# ここに自作問題の回答（pythonプログラム）を書いてください"
      ],
      "execution_count": null,
      "outputs": []
    },
    {
      "cell_type": "markdown",
      "metadata": {
        "id": "Uyci6GsFCsDo"
      },
      "source": [
        "第134問\n",
        "次の問題に答えなさい\n",
        "\n",
        "(ここから以降に自作問題を書いてください)"
      ]
    },
    {
      "cell_type": "code",
      "metadata": {
        "id": "GzznuciRCsDo"
      },
      "source": [
        "# ここに自作問題の回答（pythonプログラム）を書いてください"
      ],
      "execution_count": null,
      "outputs": []
    },
    {
      "cell_type": "markdown",
      "metadata": {
        "id": "QkKtCFTTCsGn"
      },
      "source": [
        "第135問\n",
        "次の問題に答えなさい\n",
        "\n",
        "(ここから以降に自作問題を書いてください)"
      ]
    },
    {
      "cell_type": "code",
      "metadata": {
        "id": "oDfFgZ4ZCsGo"
      },
      "source": [
        "# ここに自作問題の回答（pythonプログラム）を書いてください"
      ],
      "execution_count": null,
      "outputs": []
    },
    {
      "cell_type": "markdown",
      "metadata": {
        "id": "hgSMw9aSCsJ7"
      },
      "source": [
        "第136問\n",
        "次の問題に答えなさい\n",
        "\n",
        "(ここから以降に自作問題を書いてください)"
      ]
    },
    {
      "cell_type": "code",
      "metadata": {
        "id": "v-OtHEmPCsJ8"
      },
      "source": [
        "# ここに自作問題の回答（pythonプログラム）を書いてください"
      ],
      "execution_count": null,
      "outputs": []
    },
    {
      "cell_type": "markdown",
      "metadata": {
        "id": "4xvS1QveCsM3"
      },
      "source": [
        "第137問\n",
        "次の問題に答えなさい\n",
        "\n",
        "(ここから以降に自作問題を書いてください)"
      ]
    },
    {
      "cell_type": "code",
      "metadata": {
        "id": "SsepKbj4CsM3"
      },
      "source": [
        "# ここに自作問題の回答（pythonプログラム）を書いてください"
      ],
      "execution_count": null,
      "outputs": []
    },
    {
      "cell_type": "markdown",
      "metadata": {
        "id": "krcRlQZGCsQA"
      },
      "source": [
        "第138問\n",
        "次の問題に答えなさい\n",
        "\n",
        "(ここから以降に自作問題を書いてください)"
      ]
    },
    {
      "cell_type": "code",
      "metadata": {
        "id": "C_2LDKgrCsQA"
      },
      "source": [
        "# ここに自作問題の回答（pythonプログラム）を書いてください"
      ],
      "execution_count": null,
      "outputs": []
    },
    {
      "cell_type": "markdown",
      "metadata": {
        "id": "Jxvfr-ukCsTH"
      },
      "source": [
        "第139問\n",
        "次の問題に答えなさい\n",
        "\n",
        "(ここから以降に自作問題を書いてください)"
      ]
    },
    {
      "cell_type": "code",
      "metadata": {
        "id": "9jwWy8OWCsTI"
      },
      "source": [
        "# ここに自作問題の回答（pythonプログラム）を書いてください"
      ],
      "execution_count": null,
      "outputs": []
    },
    {
      "cell_type": "markdown",
      "metadata": {
        "id": "BxkFnB1ECsWo"
      },
      "source": [
        "第140問\n",
        "次の問題に答えなさい\n",
        "\n",
        "(ここから以降に自作問題を書いてください)"
      ]
    },
    {
      "cell_type": "code",
      "metadata": {
        "id": "4lAUviyQCsWo"
      },
      "source": [
        "# ここに自作問題の回答（pythonプログラム）を書いてください"
      ],
      "execution_count": null,
      "outputs": []
    },
    {
      "cell_type": "markdown",
      "metadata": {
        "id": "rkTCK0rLCsd3"
      },
      "source": [
        "第141問\n",
        "次の問題に答えなさい\n",
        "\n",
        "(ここから以降に自作問題を書いてください)"
      ]
    },
    {
      "cell_type": "code",
      "metadata": {
        "id": "KDUhCeQ8Csd3"
      },
      "source": [
        "# ここに自作問題の回答（pythonプログラム）を書いてください"
      ],
      "execution_count": null,
      "outputs": []
    },
    {
      "cell_type": "markdown",
      "metadata": {
        "id": "qGrizQ65Csgn"
      },
      "source": [
        "第142問\n",
        "次の問題に答えなさい\n",
        "\n",
        "(ここから以降に自作問題を書いてください)"
      ]
    },
    {
      "cell_type": "code",
      "metadata": {
        "id": "HZ_tRCKSCsgn"
      },
      "source": [
        "# ここに自作問題の回答（pythonプログラム）を書いてください"
      ],
      "execution_count": null,
      "outputs": []
    },
    {
      "cell_type": "markdown",
      "metadata": {
        "id": "KZKNgA_DCsjv"
      },
      "source": [
        "第143問\n",
        "次の問題に答えなさい\n",
        "\n",
        "(ここから以降に自作問題を書いてください)"
      ]
    },
    {
      "cell_type": "code",
      "metadata": {
        "id": "AYTCSfL2Csjv"
      },
      "source": [
        "# ここに自作問題の回答（pythonプログラム）を書いてください"
      ],
      "execution_count": null,
      "outputs": []
    },
    {
      "cell_type": "markdown",
      "metadata": {
        "id": "G0L_PK6WCsmv"
      },
      "source": [
        "第144問\n",
        "次の問題に答えなさい\n",
        "\n",
        "(ここから以降に自作問題を書いてください)"
      ]
    },
    {
      "cell_type": "code",
      "metadata": {
        "id": "ke--fN9JCsmv"
      },
      "source": [
        "# ここに自作問題の回答（pythonプログラム）を書いてください"
      ],
      "execution_count": null,
      "outputs": []
    },
    {
      "cell_type": "markdown",
      "metadata": {
        "id": "mBsOaouZCspv"
      },
      "source": [
        "第145問\n",
        "次の問題に答えなさい\n",
        "\n",
        "(ここから以降に自作問題を書いてください)"
      ]
    },
    {
      "cell_type": "code",
      "metadata": {
        "id": "SsqwcDUCCspv"
      },
      "source": [
        "# ここに自作問題の回答（pythonプログラム）を書いてください"
      ],
      "execution_count": null,
      "outputs": []
    },
    {
      "cell_type": "markdown",
      "metadata": {
        "id": "OQG2_Ta1Css3"
      },
      "source": [
        "第146問\n",
        "次の問題に答えなさい\n",
        "\n",
        "(ここから以降に自作問題を書いてください)"
      ]
    },
    {
      "cell_type": "code",
      "metadata": {
        "id": "pKLRS-6FCss3"
      },
      "source": [
        "# ここに自作問題の回答（pythonプログラム）を書いてください"
      ],
      "execution_count": null,
      "outputs": []
    },
    {
      "cell_type": "markdown",
      "metadata": {
        "id": "60mm047yCsv3"
      },
      "source": [
        "第147問\n",
        "次の問題に答えなさい\n",
        "\n",
        "(ここから以降に自作問題を書いてください)"
      ]
    },
    {
      "cell_type": "code",
      "metadata": {
        "id": "ryz9mntPCsv4"
      },
      "source": [
        "# ここに自作問題の回答（pythonプログラム）を書いてください"
      ],
      "execution_count": null,
      "outputs": []
    },
    {
      "cell_type": "markdown",
      "metadata": {
        "id": "agzulz-KCsy_"
      },
      "source": [
        "第148問\n",
        "次の問題に答えなさい\n",
        "\n",
        "(ここから以降に自作問題を書いてください)"
      ]
    },
    {
      "cell_type": "code",
      "metadata": {
        "id": "SnIBHq8jCsy_"
      },
      "source": [
        "# ここに自作問題の回答（pythonプログラム）を書いてください"
      ],
      "execution_count": null,
      "outputs": []
    },
    {
      "cell_type": "markdown",
      "metadata": {
        "id": "6sf9JZcYCs2P"
      },
      "source": [
        "第149問\n",
        "次の問題に答えなさい\n",
        "\n",
        "(ここから以降に自作問題を書いてください)"
      ]
    },
    {
      "cell_type": "code",
      "metadata": {
        "id": "rVJFr6waCs2P"
      },
      "source": [
        "# ここに自作問題の回答（pythonプログラム）を書いてください"
      ],
      "execution_count": null,
      "outputs": []
    },
    {
      "cell_type": "markdown",
      "source": [
        "# 第150問～第199問"
      ],
      "metadata": {
        "id": "weeQAsGpwwGU"
      }
    },
    {
      "cell_type": "markdown",
      "metadata": {
        "id": "BRF3gImhCs-o"
      },
      "source": [
        "第150問\n",
        "次の問題に答えなさい\n",
        "\n",
        "(ここから以降に自作問題を書いてください)"
      ]
    },
    {
      "cell_type": "code",
      "metadata": {
        "id": "x1_ZP89pCs-p"
      },
      "source": [
        "# ここに自作問題の回答（pythonプログラム）を書いてください"
      ],
      "execution_count": null,
      "outputs": []
    },
    {
      "cell_type": "markdown",
      "metadata": {
        "id": "rnQo_1MPCtBq"
      },
      "source": [
        "第151問\n",
        "次の問題に答えなさい\n",
        "\n",
        "(ここから以降に自作問題を書いてください)"
      ]
    },
    {
      "cell_type": "code",
      "metadata": {
        "id": "T1GL7mXYCtBq"
      },
      "source": [
        "# ここに自作問題の回答（pythonプログラム）を書いてください"
      ],
      "execution_count": null,
      "outputs": []
    },
    {
      "cell_type": "markdown",
      "metadata": {
        "id": "iKFtHR-7CtFA"
      },
      "source": [
        "第152問\n",
        "次の問題に答えなさい\n",
        "\n",
        "(ここから以降に自作問題を書いてください)"
      ]
    },
    {
      "cell_type": "code",
      "metadata": {
        "id": "Z7Cz_4cFCtFB"
      },
      "source": [
        "# ここに自作問題の回答（pythonプログラム）を書いてください"
      ],
      "execution_count": null,
      "outputs": []
    },
    {
      "cell_type": "markdown",
      "metadata": {
        "id": "FcgPk5jPCtHf"
      },
      "source": [
        "第153問\n",
        "次の問題に答えなさい\n",
        "\n",
        "(ここから以降に自作問題を書いてください)"
      ]
    },
    {
      "cell_type": "code",
      "metadata": {
        "id": "l_bX0nMeCtHf"
      },
      "source": [
        "# ここに自作問題の回答（pythonプログラム）を書いてください"
      ],
      "execution_count": null,
      "outputs": []
    },
    {
      "cell_type": "markdown",
      "metadata": {
        "id": "F7PJEaAmCtK8"
      },
      "source": [
        "第154問\n",
        "次の問題に答えなさい\n",
        "\n",
        "(ここから以降に自作問題を書いてください)"
      ]
    },
    {
      "cell_type": "code",
      "metadata": {
        "id": "7MXgRqv9CtK9"
      },
      "source": [
        "# ここに自作問題の回答（pythonプログラム）を書いてください"
      ],
      "execution_count": null,
      "outputs": []
    },
    {
      "cell_type": "markdown",
      "metadata": {
        "id": "3lRSTMskCtOB"
      },
      "source": [
        "第155問\n",
        "次の問題に答えなさい\n",
        "\n",
        "(ここから以降に自作問題を書いてください)"
      ]
    },
    {
      "cell_type": "code",
      "metadata": {
        "id": "rnwc4jNgCtOB"
      },
      "source": [
        "# ここに自作問題の回答（pythonプログラム）を書いてください"
      ],
      "execution_count": null,
      "outputs": []
    },
    {
      "cell_type": "markdown",
      "metadata": {
        "id": "WhPcWt0ICtRE"
      },
      "source": [
        "第156問\n",
        "次の問題に答えなさい\n",
        "\n",
        "(ここから以降に自作問題を書いてください)"
      ]
    },
    {
      "cell_type": "code",
      "metadata": {
        "id": "KZBpK7xTCtRF"
      },
      "source": [
        "# ここに自作問題の回答（pythonプログラム）を書いてください"
      ],
      "execution_count": null,
      "outputs": []
    },
    {
      "cell_type": "markdown",
      "metadata": {
        "id": "udQyi09hCtUf"
      },
      "source": [
        "第157問\n",
        "次の問題に答えなさい\n",
        "\n",
        "(ここから以降に自作問題を書いてください)"
      ]
    },
    {
      "cell_type": "code",
      "metadata": {
        "id": "-DDJ_Z5ECtUg"
      },
      "source": [
        "# ここに自作問題の回答（pythonプログラム）を書いてください"
      ],
      "execution_count": null,
      "outputs": []
    },
    {
      "cell_type": "markdown",
      "metadata": {
        "id": "Qdo24pnOCtXz"
      },
      "source": [
        "第158問\n",
        "次の問題に答えなさい\n",
        "\n",
        "(ここから以降に自作問題を書いてください)"
      ]
    },
    {
      "cell_type": "code",
      "metadata": {
        "id": "7sX0PX-BCtXz"
      },
      "source": [
        "# ここに自作問題の回答（pythonプログラム）を書いてください"
      ],
      "execution_count": null,
      "outputs": []
    },
    {
      "cell_type": "markdown",
      "metadata": {
        "id": "_FnBEWLgCtau"
      },
      "source": [
        "第159問\n",
        "次の問題に答えなさい\n",
        "\n",
        "(ここから以降に自作問題を書いてください)\n",
        "\n",
        "与えられた数字を0にするプログラミングを作りなさい"
      ]
    },
    {
      "cell_type": "code",
      "metadata": {
        "id": "cJADK55gCtau",
        "outputId": "cd2b1c76-6d1c-4646-fb19-f9eaed555e86",
        "colab": {
          "base_uri": "https://localhost:8080/"
        }
      },
      "source": [
        "# ここに自作問題の回答（pythonプログラム）を書いてください\n",
        "num = int(input('数字を入力してください'))\n",
        "ans = num * 0\n",
        "print(ans)"
      ],
      "execution_count": null,
      "outputs": [
        {
          "output_type": "stream",
          "name": "stdout",
          "text": [
            "数字を入力してください5215\n",
            "0\n"
          ]
        }
      ]
    },
    {
      "cell_type": "markdown",
      "metadata": {
        "id": "jtt_LqJjCtjA"
      },
      "source": [
        "第160問\n",
        "次の問題に答えなさい\n",
        "\n",
        "(ここから以降に自作問題を書いてください)"
      ]
    },
    {
      "cell_type": "code",
      "metadata": {
        "id": "PyYNzxJPCtjA"
      },
      "source": [
        "# ここに自作問題の回答（pythonプログラム）を書いてください"
      ],
      "execution_count": null,
      "outputs": []
    },
    {
      "cell_type": "markdown",
      "metadata": {
        "id": "lbWjrECSCtl3"
      },
      "source": [
        "第161問\n",
        "次の問題に答えなさい\n",
        "\n",
        "(ここから以降に自作問題を書いてください)"
      ]
    },
    {
      "cell_type": "code",
      "metadata": {
        "id": "XDBqcSBBCtl3"
      },
      "source": [
        "# ここに自作問題の回答（pythonプログラム）を書いてください"
      ],
      "execution_count": null,
      "outputs": []
    },
    {
      "cell_type": "markdown",
      "metadata": {
        "id": "qY20GolaCto3"
      },
      "source": [
        "第162問\n",
        "次の問題に答えなさい\n",
        "\n",
        "(ここから以降に自作問題を書いてください)"
      ]
    },
    {
      "cell_type": "code",
      "metadata": {
        "id": "M9Ddv0wRCto3"
      },
      "source": [
        "# ここに自作問題の回答（pythonプログラム）を書いてください"
      ],
      "execution_count": null,
      "outputs": []
    },
    {
      "cell_type": "markdown",
      "metadata": {
        "id": "XLJIeMNBCtr4"
      },
      "source": [
        "第163問\n",
        "次の問題に答えなさい\n",
        "\n",
        "(ここから以降に自作問題を書いてください)"
      ]
    },
    {
      "cell_type": "code",
      "metadata": {
        "id": "3tna4bz1Ctr5"
      },
      "source": [
        "# ここに自作問題の回答（pythonプログラム）を書いてください"
      ],
      "execution_count": null,
      "outputs": []
    },
    {
      "cell_type": "markdown",
      "metadata": {
        "id": "ohlZCrO0Ctu_"
      },
      "source": [
        "第164問\n",
        "次の問題に答えなさい\n",
        "\n",
        "(ここから以降に自作問題を書いてください)"
      ]
    },
    {
      "cell_type": "code",
      "metadata": {
        "id": "kcC89X3sCtu_"
      },
      "source": [
        "# ここに自作問題の回答（pythonプログラム）を書いてください"
      ],
      "execution_count": null,
      "outputs": []
    },
    {
      "cell_type": "markdown",
      "metadata": {
        "id": "xikErFTgCtya"
      },
      "source": [
        "第165問\n",
        "次の問題に答えなさい\n",
        "\n",
        "(ここから以降に自作問題を書いてください)"
      ]
    },
    {
      "cell_type": "code",
      "metadata": {
        "id": "21FIyD2TCtyb"
      },
      "source": [
        "# ここに自作問題の回答（pythonプログラム）を書いてください"
      ],
      "execution_count": null,
      "outputs": []
    },
    {
      "cell_type": "markdown",
      "metadata": {
        "id": "Ugpx1PgkCt1i"
      },
      "source": [
        "第166問\n",
        "次の問題に答えなさい\n",
        "\n",
        "(ここから以降に自作問題を書いてください)"
      ]
    },
    {
      "cell_type": "code",
      "metadata": {
        "id": "EOrK5ENqCt1j"
      },
      "source": [
        "# ここに自作問題の回答（pythonプログラム）を書いてください"
      ],
      "execution_count": null,
      "outputs": []
    },
    {
      "cell_type": "markdown",
      "metadata": {
        "id": "4LEX9rjBCt4-"
      },
      "source": [
        "第167問\n",
        "次の問題に答えなさい\n",
        "\n",
        "(ここから以降に自作問題を書いてください)"
      ]
    },
    {
      "cell_type": "code",
      "metadata": {
        "id": "A_dyt37dCt4-"
      },
      "source": [
        "# ここに自作問題の回答（pythonプログラム）を書いてください"
      ],
      "execution_count": null,
      "outputs": []
    },
    {
      "cell_type": "markdown",
      "metadata": {
        "id": "2oq9Z-ItCt8B"
      },
      "source": [
        "第168問\n",
        "次の問題に答えなさい\n",
        "\n",
        "(ここから以降に自作問題を書いてください)"
      ]
    },
    {
      "cell_type": "code",
      "metadata": {
        "id": "z19xPVQPCt8B"
      },
      "source": [
        "# ここに自作問題の回答（pythonプログラム）を書いてください"
      ],
      "execution_count": null,
      "outputs": []
    },
    {
      "cell_type": "markdown",
      "metadata": {
        "id": "AGgWoo8XCt_H"
      },
      "source": [
        "第169問\n",
        "次の問題に答えなさい\n",
        "\n",
        "(ここから以降に自作問題を書いてください)"
      ]
    },
    {
      "cell_type": "code",
      "metadata": {
        "id": "P3TJ2Bn_Ct_I"
      },
      "source": [
        "# ここに自作問題の回答（pythonプログラム）を書いてください"
      ],
      "execution_count": null,
      "outputs": []
    },
    {
      "cell_type": "markdown",
      "metadata": {
        "id": "pIr6Dq9ECuI3"
      },
      "source": [
        "第170問\n",
        "次の問題に答えなさい\n",
        "\n",
        "(ここから以降に自作問題を書いてください)"
      ]
    },
    {
      "cell_type": "code",
      "metadata": {
        "id": "mHXWQLBoCuI3"
      },
      "source": [
        "# ここに自作問題の回答（pythonプログラム）を書いてください"
      ],
      "execution_count": null,
      "outputs": []
    },
    {
      "cell_type": "markdown",
      "metadata": {
        "id": "ImJG2YrZCuL4"
      },
      "source": [
        "第171問\n",
        "次の問題に答えなさい\n",
        "\n",
        "(ここから以降に自作問題を書いてください)"
      ]
    },
    {
      "cell_type": "code",
      "metadata": {
        "id": "IE3zz6fmCuL4"
      },
      "source": [
        "# ここに自作問題の回答（pythonプログラム）を書いてください"
      ],
      "execution_count": null,
      "outputs": []
    },
    {
      "cell_type": "markdown",
      "metadata": {
        "id": "m6wYrLYeCuO3"
      },
      "source": [
        "第172問\n",
        "次の問題に答えなさい\n",
        "\n",
        "(ここから以降に自作問題を書いてください)"
      ]
    },
    {
      "cell_type": "code",
      "metadata": {
        "id": "1KOjHNfYCuO4"
      },
      "source": [
        "# ここに自作問題の回答（pythonプログラム）を書いてください"
      ],
      "execution_count": null,
      "outputs": []
    },
    {
      "cell_type": "markdown",
      "metadata": {
        "id": "Jw9Ek2DlCuR4"
      },
      "source": [
        "第173問\n",
        "次の問題に答えなさい\n",
        "\n",
        "(ここから以降に自作問題を書いてください)"
      ]
    },
    {
      "cell_type": "code",
      "metadata": {
        "id": "USjuVtrjCuR4"
      },
      "source": [
        "# ここに自作問題の回答（pythonプログラム）を書いてください"
      ],
      "execution_count": null,
      "outputs": []
    },
    {
      "cell_type": "markdown",
      "metadata": {
        "id": "NdsYQAYTCuVH"
      },
      "source": [
        "第174問\n",
        "次の問題に答えなさい\n",
        "\n",
        "(ここから以降に自作問題を書いてください)"
      ]
    },
    {
      "cell_type": "code",
      "metadata": {
        "id": "A0kaERdDCuVH"
      },
      "source": [
        "# ここに自作問題の回答（pythonプログラム）を書いてください"
      ],
      "execution_count": null,
      "outputs": []
    },
    {
      "cell_type": "markdown",
      "metadata": {
        "id": "yceG_kjTCuYp"
      },
      "source": [
        "第175問\n",
        "次の問題に答えなさい\n",
        "\n",
        "(ここから以降に自作問題を書いてください)"
      ]
    },
    {
      "cell_type": "code",
      "metadata": {
        "id": "eukWxsD9CuYp"
      },
      "source": [
        "# ここに自作問題の回答（pythonプログラム）を書いてください"
      ],
      "execution_count": null,
      "outputs": []
    },
    {
      "cell_type": "markdown",
      "metadata": {
        "id": "tsnHGQefCub2"
      },
      "source": [
        "第176問\n",
        "次の問題に答えなさい\n",
        "\n",
        "(ここから以降に自作問題を書いてください)"
      ]
    },
    {
      "cell_type": "code",
      "metadata": {
        "id": "KIqmQWFWCub2"
      },
      "source": [
        "# ここに自作問題の回答（pythonプログラム）を書いてください"
      ],
      "execution_count": null,
      "outputs": []
    },
    {
      "cell_type": "markdown",
      "metadata": {
        "id": "hc7T3cJFCufW"
      },
      "source": [
        "第177問\n",
        "次の問題に答えなさい\n",
        "\n",
        "(ここから以降に自作問題を書いてください)"
      ]
    },
    {
      "cell_type": "code",
      "metadata": {
        "id": "rHAppR6_CufX"
      },
      "source": [
        "# ここに自作問題の回答（pythonプログラム）を書いてください"
      ],
      "execution_count": null,
      "outputs": []
    },
    {
      "cell_type": "markdown",
      "metadata": {
        "id": "kWDt6DMjtNEE"
      },
      "source": [
        "第178問\n",
        "次の問題に答えなさい\n",
        "\n",
        "(ここから以降に自作問題を書いてください)"
      ]
    },
    {
      "cell_type": "code",
      "metadata": {
        "id": "W168b2aYtPpT"
      },
      "source": [
        "# ここに自作問題の回答（pythonプログラム）を書いてください"
      ],
      "execution_count": null,
      "outputs": []
    },
    {
      "cell_type": "markdown",
      "source": [
        ""
      ],
      "metadata": {
        "id": "leCPoaMbu4QR"
      }
    },
    {
      "cell_type": "markdown",
      "metadata": {
        "id": "aZi0fXwCu5Ge"
      },
      "source": [
        "第179問\n",
        "次の問題に答えなさい\n",
        "\n",
        "(ここから以降に自作問題を書いてください)"
      ]
    },
    {
      "cell_type": "code",
      "metadata": {
        "id": "_f5OfVUyu5Ge"
      },
      "source": [
        "# ここに自作問題の回答（pythonプログラム）を書いてください"
      ],
      "execution_count": null,
      "outputs": []
    },
    {
      "cell_type": "markdown",
      "metadata": {
        "id": "eaOJkNCvu5Ge"
      },
      "source": [
        "第180問\n",
        "次の問題に答えなさい\n",
        "\n",
        "(ここから以降に自作問題を書いてください)"
      ]
    },
    {
      "cell_type": "code",
      "metadata": {
        "id": "RivUjQJXu5Ge"
      },
      "source": [
        "# ここに自作問題の回答（pythonプログラム）を書いてください"
      ],
      "execution_count": null,
      "outputs": []
    },
    {
      "cell_type": "markdown",
      "metadata": {
        "id": "aryx7-hUu5Ge"
      },
      "source": [
        "第181問\n",
        "次の問題に答えなさい\n",
        "\n",
        "(ここから以降に自作問題を書いてください)"
      ]
    },
    {
      "cell_type": "code",
      "metadata": {
        "id": "8c58yne2u5Ge"
      },
      "source": [
        "# ここに自作問題の回答（pythonプログラム）を書いてください"
      ],
      "execution_count": null,
      "outputs": []
    },
    {
      "cell_type": "markdown",
      "metadata": {
        "id": "ujNkLYbyu5Ge"
      },
      "source": [
        "第182問\n",
        "次の問題に答えなさい\n",
        "\n",
        "(ここから以降に自作問題を書いてください)"
      ]
    },
    {
      "cell_type": "code",
      "metadata": {
        "id": "5idCVayvu5Gf"
      },
      "source": [
        "# ここに自作問題の回答（pythonプログラム）を書いてください"
      ],
      "execution_count": null,
      "outputs": []
    },
    {
      "cell_type": "markdown",
      "metadata": {
        "id": "aBvTNq8Xu5Gf"
      },
      "source": [
        "第183問\n",
        "次の問題に答えなさい\n",
        "\n",
        "(ここから以降に自作問題を書いてください)"
      ]
    },
    {
      "cell_type": "code",
      "metadata": {
        "id": "_5XcK-Kuu5Gf"
      },
      "source": [
        "# ここに自作問題の回答（pythonプログラム）を書いてください"
      ],
      "execution_count": null,
      "outputs": []
    },
    {
      "cell_type": "markdown",
      "metadata": {
        "id": "jlpZCTRnu5Gf"
      },
      "source": [
        "第184問\n",
        "次の問題に答えなさい\n",
        "\n",
        "(ここから以降に自作問題を書いてください)"
      ]
    },
    {
      "cell_type": "code",
      "metadata": {
        "id": "p2JhZwtLu5Gf"
      },
      "source": [
        "# ここに自作問題の回答（pythonプログラム）を書いてください"
      ],
      "execution_count": null,
      "outputs": []
    },
    {
      "cell_type": "markdown",
      "metadata": {
        "id": "s8LBPEUNu5Gf"
      },
      "source": [
        "第185問\n",
        "次の問題に答えなさい\n",
        "\n",
        "(ここから以降に自作問題を書いてください)"
      ]
    },
    {
      "cell_type": "code",
      "metadata": {
        "id": "jy_zrv91u5Gf"
      },
      "source": [
        "# ここに自作問題の回答（pythonプログラム）を書いてください"
      ],
      "execution_count": null,
      "outputs": []
    },
    {
      "cell_type": "markdown",
      "metadata": {
        "id": "Wxgf4v1Iu5Gf"
      },
      "source": [
        "第186問\n",
        "次の問題に答えなさい\n",
        "\n",
        "(ここから以降に自作問題を書いてください)"
      ]
    },
    {
      "cell_type": "code",
      "metadata": {
        "id": "Gje15BbSu5Gf"
      },
      "source": [
        "# ここに自作問題の回答（pythonプログラム）を書いてください"
      ],
      "execution_count": null,
      "outputs": []
    },
    {
      "cell_type": "markdown",
      "metadata": {
        "id": "dAuEy0vwu5Gg"
      },
      "source": [
        "第187問\n",
        "次の問題に答えなさい\n",
        "\n",
        "(ここから以降に自作問題を書いてください)"
      ]
    },
    {
      "cell_type": "code",
      "metadata": {
        "id": "WSGOenN3u5Gg"
      },
      "source": [
        "# ここに自作問題の回答（pythonプログラム）を書いてください"
      ],
      "execution_count": null,
      "outputs": []
    },
    {
      "cell_type": "markdown",
      "metadata": {
        "id": "1GZIe4gnu5Gg"
      },
      "source": [
        "第188問\n",
        "次の問題に答えなさい\n",
        "\n",
        "(ここから以降に自作問題を書いてください)"
      ]
    },
    {
      "cell_type": "code",
      "metadata": {
        "id": "4SXtLe6Iu5Gg"
      },
      "source": [
        "# ここに自作問題の回答（pythonプログラム）を書いてください"
      ],
      "execution_count": null,
      "outputs": []
    },
    {
      "cell_type": "markdown",
      "metadata": {
        "id": "NAC5SKTEu5Gg"
      },
      "source": [
        "第189問\n",
        "次の問題に答えなさい\n",
        "\n",
        "(ここから以降に自作問題を書いてください)"
      ]
    },
    {
      "cell_type": "code",
      "metadata": {
        "id": "tEoUT1Wru5Gg"
      },
      "source": [
        "# ここに自作問題の回答（pythonプログラム）を書いてください"
      ],
      "execution_count": null,
      "outputs": []
    },
    {
      "cell_type": "markdown",
      "metadata": {
        "id": "rMRP9Q92u5Gg"
      },
      "source": [
        "第190問\n",
        "次の問題に答えなさい\n",
        "\n",
        "(ここから以降に自作問題を書いてください)"
      ]
    },
    {
      "cell_type": "code",
      "metadata": {
        "id": "tFIy_90qu5Gg"
      },
      "source": [
        "# ここに自作問題の回答（pythonプログラム）を書いてください"
      ],
      "execution_count": null,
      "outputs": []
    },
    {
      "cell_type": "markdown",
      "metadata": {
        "id": "OOEzFchwu5Gh"
      },
      "source": [
        "第191問\n",
        "次の問題に答えなさい\n",
        "\n",
        "(ここから以降に自作問題を書いてください)"
      ]
    },
    {
      "cell_type": "code",
      "metadata": {
        "id": "UVUZkswpu5Gh"
      },
      "source": [
        "# ここに自作問題の回答（pythonプログラム）を書いてください"
      ],
      "execution_count": null,
      "outputs": []
    },
    {
      "cell_type": "markdown",
      "metadata": {
        "id": "5BCp_jzlu5Gh"
      },
      "source": [
        "第192問\n",
        "次の問題に答えなさい\n",
        "\n",
        "(ここから以降に自作問題を書いてください)"
      ]
    },
    {
      "cell_type": "code",
      "metadata": {
        "id": "zUsuuRIqu5Gh"
      },
      "source": [
        "# ここに自作問題の回答（pythonプログラム）を書いてください"
      ],
      "execution_count": null,
      "outputs": []
    },
    {
      "cell_type": "markdown",
      "metadata": {
        "id": "QKG7Y_9Qu5Gh"
      },
      "source": [
        "第193問\n",
        "次の問題に答えなさい\n",
        "\n",
        "(ここから以降に自作問題を書いてください)"
      ]
    },
    {
      "cell_type": "code",
      "metadata": {
        "id": "K4PVyq0iu5Gh"
      },
      "source": [
        "# ここに自作問題の回答（pythonプログラム）を書いてください"
      ],
      "execution_count": null,
      "outputs": []
    },
    {
      "cell_type": "markdown",
      "metadata": {
        "id": "x2TR0lG9u5Gh"
      },
      "source": [
        "第194問\n",
        "次の問題に答えなさい\n",
        "\n",
        "(ここから以降に自作問題を書いてください)"
      ]
    },
    {
      "cell_type": "code",
      "metadata": {
        "id": "Nzpok64vu5Gh"
      },
      "source": [
        "# ここに自作問題の回答（pythonプログラム）を書いてください"
      ],
      "execution_count": null,
      "outputs": []
    },
    {
      "cell_type": "markdown",
      "metadata": {
        "id": "VRqsyCEHu5Gh"
      },
      "source": [
        "第195問\n",
        "次の問題に答えなさい\n",
        "\n",
        "(ここから以降に自作問題を書いてください)"
      ]
    },
    {
      "cell_type": "code",
      "metadata": {
        "id": "94vjAPpuu5Gi"
      },
      "source": [
        "# ここに自作問題の回答（pythonプログラム）を書いてください"
      ],
      "execution_count": null,
      "outputs": []
    },
    {
      "cell_type": "markdown",
      "metadata": {
        "id": "eqNS6eCyu5Gi"
      },
      "source": [
        "第196問\n",
        "次の問題に答えなさい\n",
        "\n",
        "(ここから以降に自作問題を書いてください)"
      ]
    },
    {
      "cell_type": "code",
      "metadata": {
        "id": "-aet9OVau5Gi"
      },
      "source": [
        "# ここに自作問題の回答（pythonプログラム）を書いてください"
      ],
      "execution_count": null,
      "outputs": []
    },
    {
      "cell_type": "markdown",
      "metadata": {
        "id": "ZFVg0mjPu5Gi"
      },
      "source": [
        "第197問\n",
        "次の問題に答えなさい\n",
        "\n",
        "(ここから以降に自作問題を書いてください)"
      ]
    },
    {
      "cell_type": "code",
      "metadata": {
        "id": "rYeU4-lFu5Gi"
      },
      "source": [
        "# ここに自作問題の回答（pythonプログラム）を書いてください"
      ],
      "execution_count": null,
      "outputs": []
    },
    {
      "cell_type": "markdown",
      "metadata": {
        "id": "3n6zqSiwu5Gi"
      },
      "source": [
        "第198問\n",
        "次の問題に答えなさい\n",
        "\n",
        "(ここから以降に自作問題を書いてください)"
      ]
    },
    {
      "cell_type": "code",
      "metadata": {
        "id": "ckX9Lm9ru5Gi"
      },
      "source": [
        "# ここに自作問題の回答（pythonプログラム）を書いてください"
      ],
      "execution_count": null,
      "outputs": []
    },
    {
      "cell_type": "markdown",
      "metadata": {
        "id": "ONRkG2awu5Gi"
      },
      "source": [
        "第199問\n",
        "次の問題に答えなさい\n",
        "\n",
        "(ここから以降に自作問題を書いてください)"
      ]
    },
    {
      "cell_type": "code",
      "metadata": {
        "id": "ZAKR8__Fu5Gj"
      },
      "source": [
        "# ここに自作問題の回答（pythonプログラム）を書いてください"
      ],
      "execution_count": null,
      "outputs": []
    },
    {
      "cell_type": "markdown",
      "source": [
        "# 第200問～第250問"
      ],
      "metadata": {
        "id": "FH9NTCURwmU-"
      }
    },
    {
      "cell_type": "markdown",
      "metadata": {
        "id": "IDAHU8eJu5Gj"
      },
      "source": [
        "第200問\n",
        "次の問題に答えなさい\n",
        "\n",
        "(ここから以降に自作問題を書いてください)"
      ]
    },
    {
      "cell_type": "code",
      "metadata": {
        "id": "y7FAiBJOu5Gj"
      },
      "source": [
        "# ここに自作問題の回答（pythonプログラム）を書いてください"
      ],
      "execution_count": null,
      "outputs": []
    },
    {
      "cell_type": "markdown",
      "metadata": {
        "id": "_6QBBIRau5Gj"
      },
      "source": [
        "第201問\n",
        "次の問題に答えなさい\n",
        "\n",
        "(ここから以降に自作問題を書いてください)"
      ]
    },
    {
      "cell_type": "code",
      "metadata": {
        "id": "yIlqxYOou5Gj"
      },
      "source": [
        "# ここに自作問題の回答（pythonプログラム）を書いてください"
      ],
      "execution_count": null,
      "outputs": []
    },
    {
      "cell_type": "markdown",
      "metadata": {
        "id": "OFmaKYEMu5Gj"
      },
      "source": [
        "第202問\n",
        "次の問題に答えなさい\n",
        "\n",
        "(ここから以降に自作問題を書いてください)"
      ]
    },
    {
      "cell_type": "code",
      "metadata": {
        "id": "JATc2qEDu5Gj"
      },
      "source": [
        "# ここに自作問題の回答（pythonプログラム）を書いてください"
      ],
      "execution_count": null,
      "outputs": []
    },
    {
      "cell_type": "markdown",
      "metadata": {
        "id": "teEIBn0Mu5Gj"
      },
      "source": [
        "第203問\n",
        "次の問題に答えなさい\n",
        "\n",
        "(ここから以降に自作問題を書いてください)"
      ]
    },
    {
      "cell_type": "code",
      "metadata": {
        "id": "Mg8Ys7O0u5Gj"
      },
      "source": [
        "# ここに自作問題の回答（pythonプログラム）を書いてください"
      ],
      "execution_count": null,
      "outputs": []
    },
    {
      "cell_type": "markdown",
      "metadata": {
        "id": "FetVnqflu5Gj"
      },
      "source": [
        "第204問\n",
        "次の問題に答えなさい\n",
        "\n",
        "(ここから以降に自作問題を書いてください)"
      ]
    },
    {
      "cell_type": "code",
      "metadata": {
        "id": "_GbZtsd4u5Gk"
      },
      "source": [
        "# ここに自作問題の回答（pythonプログラム）を書いてください"
      ],
      "execution_count": null,
      "outputs": []
    },
    {
      "cell_type": "markdown",
      "metadata": {
        "id": "h1rLA9Ylu5Gk"
      },
      "source": [
        "第205問\n",
        "次の問題に答えなさい\n",
        "\n",
        "(ここから以降に自作問題を書いてください)"
      ]
    },
    {
      "cell_type": "code",
      "metadata": {
        "id": "CfjnTjaQu5Gk"
      },
      "source": [
        "# ここに自作問題の回答（pythonプログラム）を書いてください"
      ],
      "execution_count": null,
      "outputs": []
    },
    {
      "cell_type": "markdown",
      "metadata": {
        "id": "8P4rAehyu5Gk"
      },
      "source": [
        "第206問\n",
        "次の問題に答えなさい\n",
        "\n",
        "(ここから以降に自作問題を書いてください)"
      ]
    },
    {
      "cell_type": "code",
      "metadata": {
        "id": "IH0aeNw2u5Gk"
      },
      "source": [
        "# ここに自作問題の回答（pythonプログラム）を書いてください"
      ],
      "execution_count": null,
      "outputs": []
    },
    {
      "cell_type": "markdown",
      "metadata": {
        "id": "b68BqbSOu5Gk"
      },
      "source": [
        "第207問\n",
        "次の問題に答えなさい\n",
        "\n",
        "(ここから以降に自作問題を書いてください)"
      ]
    },
    {
      "cell_type": "code",
      "metadata": {
        "id": "FpKkrhozu5Gk"
      },
      "source": [
        "# ここに自作問題の回答（pythonプログラム）を書いてください"
      ],
      "execution_count": null,
      "outputs": []
    },
    {
      "cell_type": "markdown",
      "metadata": {
        "id": "7qSmUDXxu5Gk"
      },
      "source": [
        "第208問\n",
        "次の問題に答えなさい\n",
        "\n",
        "(ここから以降に自作問題を書いてください)"
      ]
    },
    {
      "cell_type": "code",
      "metadata": {
        "id": "7RrX6b5mu5Gl"
      },
      "source": [
        "# ここに自作問題の回答（pythonプログラム）を書いてください"
      ],
      "execution_count": null,
      "outputs": []
    },
    {
      "cell_type": "markdown",
      "metadata": {
        "id": "nM1mjpSlu5Gl"
      },
      "source": [
        "第209問\n",
        "次の問題に答えなさい\n",
        "\n",
        "(ここから以降に自作問題を書いてください)"
      ]
    },
    {
      "cell_type": "code",
      "metadata": {
        "id": "wvus1JkBu5Gl"
      },
      "source": [
        "# ここに自作問題の回答（pythonプログラム）を書いてください"
      ],
      "execution_count": null,
      "outputs": []
    },
    {
      "cell_type": "markdown",
      "metadata": {
        "id": "H9-eU81Gu5Gl"
      },
      "source": [
        "第210問\n",
        "次の問題に答えなさい\n",
        "\n",
        "(ここから以降に自作問題を書いてください)"
      ]
    },
    {
      "cell_type": "code",
      "metadata": {
        "id": "f6ezAxGsu5Gl"
      },
      "source": [
        "# ここに自作問題の回答（pythonプログラム）を書いてください"
      ],
      "execution_count": null,
      "outputs": []
    },
    {
      "cell_type": "markdown",
      "metadata": {
        "id": "J2IdjFnZu5Gl"
      },
      "source": [
        "第211問\n",
        "次の問題に答えなさい\n",
        "\n",
        "(ここから以降に自作問題を書いてください)"
      ]
    },
    {
      "cell_type": "code",
      "metadata": {
        "id": "6TZE12xhu5Gl"
      },
      "source": [
        "# ここに自作問題の回答（pythonプログラム）を書いてください"
      ],
      "execution_count": null,
      "outputs": []
    },
    {
      "cell_type": "markdown",
      "metadata": {
        "id": "1svd98CVu5Gl"
      },
      "source": [
        "第212問\n",
        "次の問題に答えなさい\n",
        "\n",
        "(ここから以降に自作問題を書いてください)"
      ]
    },
    {
      "cell_type": "code",
      "metadata": {
        "id": "RGpF6i1vu5Gm"
      },
      "source": [
        "# ここに自作問題の回答（pythonプログラム）を書いてください"
      ],
      "execution_count": null,
      "outputs": []
    },
    {
      "cell_type": "markdown",
      "metadata": {
        "id": "zXT9BE5Yu5Gm"
      },
      "source": [
        "第213問\n",
        "次の問題に答えなさい\n",
        "\n",
        "(ここから以降に自作問題を書いてください)"
      ]
    },
    {
      "cell_type": "code",
      "metadata": {
        "id": "_J1e3w_Hu5Gm"
      },
      "source": [
        "# ここに自作問題の回答（pythonプログラム）を書いてください"
      ],
      "execution_count": null,
      "outputs": []
    },
    {
      "cell_type": "markdown",
      "metadata": {
        "id": "v4oCQ31ku5Gm"
      },
      "source": [
        "第214問\n",
        "次の問題に答えなさい\n",
        "\n",
        "(ここから以降に自作問題を書いてください)"
      ]
    },
    {
      "cell_type": "code",
      "metadata": {
        "id": "FXu0Uyfdu5Gm"
      },
      "source": [
        "# ここに自作問題の回答（pythonプログラム）を書いてください"
      ],
      "execution_count": null,
      "outputs": []
    },
    {
      "cell_type": "markdown",
      "metadata": {
        "id": "qj0fD3nVu5Gm"
      },
      "source": [
        "第215問\n",
        "次の問題に答えなさい\n",
        "\n",
        "(ここから以降に自作問題を書いてください)"
      ]
    },
    {
      "cell_type": "code",
      "metadata": {
        "id": "y1rFKVa2u5Gm"
      },
      "source": [
        "# ここに自作問題の回答（pythonプログラム）を書いてください"
      ],
      "execution_count": null,
      "outputs": []
    },
    {
      "cell_type": "markdown",
      "metadata": {
        "id": "q9CBFVvGu5Gm"
      },
      "source": [
        "第216問\n",
        "次の問題に答えなさい\n",
        "\n",
        "(ここから以降に自作問題を書いてください)"
      ]
    },
    {
      "cell_type": "code",
      "metadata": {
        "id": "Tt28Pv3Zu5Gm"
      },
      "source": [
        "# ここに自作問題の回答（pythonプログラム）を書いてください"
      ],
      "execution_count": null,
      "outputs": []
    },
    {
      "cell_type": "markdown",
      "metadata": {
        "id": "9cBVhrcWu5Gn"
      },
      "source": [
        "第217問\n",
        "次の問題に答えなさい\n",
        "\n",
        "(ここから以降に自作問題を書いてください)"
      ]
    },
    {
      "cell_type": "code",
      "metadata": {
        "id": "MtocmBFqu5Gn"
      },
      "source": [
        "# ここに自作問題の回答（pythonプログラム）を書いてください"
      ],
      "execution_count": null,
      "outputs": []
    },
    {
      "cell_type": "markdown",
      "metadata": {
        "id": "XmHf3y4Lu5Gn"
      },
      "source": [
        "第218問\n",
        "次の問題に答えなさい\n",
        "\n",
        "(ここから以降に自作問題を書いてください)"
      ]
    },
    {
      "cell_type": "code",
      "metadata": {
        "id": "ymK6j08tu5Gn"
      },
      "source": [
        "# ここに自作問題の回答（pythonプログラム）を書いてください"
      ],
      "execution_count": null,
      "outputs": []
    },
    {
      "cell_type": "markdown",
      "metadata": {
        "id": "6GUwUI6gu5Gn"
      },
      "source": [
        "第219問\n",
        "次の問題に答えなさい\n",
        "\n",
        "(ここから以降に自作問題を書いてください)"
      ]
    },
    {
      "cell_type": "code",
      "metadata": {
        "id": "1F1F1kVAu5Gn"
      },
      "source": [
        "# ここに自作問題の回答（pythonプログラム）を書いてください"
      ],
      "execution_count": null,
      "outputs": []
    },
    {
      "cell_type": "markdown",
      "metadata": {
        "id": "SscurGbDu5Gn"
      },
      "source": [
        "第220問\n",
        "次の問題に答えなさい\n",
        "\n",
        "(ここから以降に自作問題を書いてください)"
      ]
    },
    {
      "cell_type": "code",
      "metadata": {
        "id": "0rnpvU3_u5Gn"
      },
      "source": [
        "# ここに自作問題の回答（pythonプログラム）を書いてください"
      ],
      "execution_count": null,
      "outputs": []
    },
    {
      "cell_type": "markdown",
      "metadata": {
        "id": "UcbIuzndu5Gn"
      },
      "source": [
        "第221問\n",
        "次の問題に答えなさい\n",
        "\n",
        "(ここから以降に自作問題を書いてください)"
      ]
    },
    {
      "cell_type": "code",
      "metadata": {
        "id": "OarBrUC8u5Gn"
      },
      "source": [
        "# ここに自作問題の回答（pythonプログラム）を書いてください"
      ],
      "execution_count": null,
      "outputs": []
    },
    {
      "cell_type": "markdown",
      "metadata": {
        "id": "hdidzm0ku5Go"
      },
      "source": [
        "第222問\n",
        "次の問題に答えなさい\n",
        "\n",
        "(ここから以降に自作問題を書いてください)"
      ]
    },
    {
      "cell_type": "code",
      "metadata": {
        "id": "K4-HKe9_u5Go"
      },
      "source": [
        "# ここに自作問題の回答（pythonプログラム）を書いてください"
      ],
      "execution_count": null,
      "outputs": []
    },
    {
      "cell_type": "markdown",
      "metadata": {
        "id": "Xltk0nFiu5Go"
      },
      "source": [
        "第223問\n",
        "次の問題に答えなさい\n",
        "\n",
        "(ここから以降に自作問題を書いてください)"
      ]
    },
    {
      "cell_type": "code",
      "metadata": {
        "id": "IPkXppTPu5Go"
      },
      "source": [
        "# ここに自作問題の回答（pythonプログラム）を書いてください"
      ],
      "execution_count": null,
      "outputs": []
    },
    {
      "cell_type": "markdown",
      "metadata": {
        "id": "SYc5szMDu5Go"
      },
      "source": [
        "第224問\n",
        "次の問題に答えなさい\n",
        "\n",
        "(ここから以降に自作問題を書いてください)"
      ]
    },
    {
      "cell_type": "code",
      "metadata": {
        "id": "J7Powk57u5Go"
      },
      "source": [
        "# ここに自作問題の回答（pythonプログラム）を書いてください"
      ],
      "execution_count": null,
      "outputs": []
    },
    {
      "cell_type": "markdown",
      "metadata": {
        "id": "JFZK6GUzu5Go"
      },
      "source": [
        "第225問\n",
        "次の問題に答えなさい\n",
        "\n",
        "(ここから以降に自作問題を書いてください)"
      ]
    },
    {
      "cell_type": "code",
      "metadata": {
        "id": "RwGOY-z9u5Go"
      },
      "source": [
        "# ここに自作問題の回答（pythonプログラム）を書いてください"
      ],
      "execution_count": null,
      "outputs": []
    },
    {
      "cell_type": "markdown",
      "metadata": {
        "id": "mHVnS5WXu5Go"
      },
      "source": [
        "第226問\n",
        "次の問題に答えなさい\n",
        "\n",
        "(ここから以降に自作問題を書いてください)"
      ]
    },
    {
      "cell_type": "code",
      "metadata": {
        "id": "8tLTBClau5Go"
      },
      "source": [
        "# ここに自作問題の回答（pythonプログラム）を書いてください"
      ],
      "execution_count": null,
      "outputs": []
    },
    {
      "cell_type": "markdown",
      "metadata": {
        "id": "nEB1Xz92u5Go"
      },
      "source": [
        "第227問\n",
        "次の問題に答えなさい\n",
        "\n",
        "(ここから以降に自作問題を書いてください)"
      ]
    },
    {
      "cell_type": "code",
      "metadata": {
        "id": "elsybWDOu5Gp"
      },
      "source": [
        "# ここに自作問題の回答（pythonプログラム）を書いてください"
      ],
      "execution_count": null,
      "outputs": []
    },
    {
      "cell_type": "markdown",
      "metadata": {
        "id": "zcwZi5IQu5Gp"
      },
      "source": [
        "第228問\n",
        "次の問題に答えなさい\n",
        "\n",
        "(ここから以降に自作問題を書いてください)"
      ]
    },
    {
      "cell_type": "code",
      "metadata": {
        "id": "fyh65Ovzu5Gp"
      },
      "source": [
        "# ここに自作問題の回答（pythonプログラム）を書いてください"
      ],
      "execution_count": null,
      "outputs": []
    },
    {
      "cell_type": "markdown",
      "metadata": {
        "id": "0W5vxCp5u5Gp"
      },
      "source": [
        "第229問\n",
        "次の問題に答えなさい\n",
        "\n",
        "(ここから以降に自作問題を書いてください)"
      ]
    },
    {
      "cell_type": "code",
      "metadata": {
        "id": "ZcyHKVZzu5Gp"
      },
      "source": [
        "# ここに自作問題の回答（pythonプログラム）を書いてください"
      ],
      "execution_count": null,
      "outputs": []
    },
    {
      "cell_type": "markdown",
      "metadata": {
        "id": "ai_JbusLu5Gp"
      },
      "source": [
        "第230問\n",
        "次の問題に答えなさい\n",
        "\n",
        "(ここから以降に自作問題を書いてください)"
      ]
    },
    {
      "cell_type": "code",
      "metadata": {
        "id": "Pym9RTdIu5Gp"
      },
      "source": [
        "# ここに自作問題の回答（pythonプログラム）を書いてください"
      ],
      "execution_count": null,
      "outputs": []
    },
    {
      "cell_type": "markdown",
      "metadata": {
        "id": "_HS7r-jxu5Gp"
      },
      "source": [
        "第231問\n",
        "次の問題に答えなさい\n",
        "\n",
        "(ここから以降に自作問題を書いてください)"
      ]
    },
    {
      "cell_type": "code",
      "metadata": {
        "id": "aUmjtIZ3u5Gp"
      },
      "source": [
        "# ここに自作問題の回答（pythonプログラム）を書いてください"
      ],
      "execution_count": null,
      "outputs": []
    },
    {
      "cell_type": "markdown",
      "metadata": {
        "id": "Xc8e0H1iu5Gp"
      },
      "source": [
        "第232問\n",
        "次の問題に答えなさい\n",
        "\n",
        "(ここから以降に自作問題を書いてください)"
      ]
    },
    {
      "cell_type": "code",
      "metadata": {
        "id": "tkJDBRZXu5Gq"
      },
      "source": [
        "# ここに自作問題の回答（pythonプログラム）を書いてください"
      ],
      "execution_count": null,
      "outputs": []
    },
    {
      "cell_type": "markdown",
      "metadata": {
        "id": "GZmYAikAu5Gq"
      },
      "source": [
        "第233問\n",
        "次の問題に答えなさい\n",
        "\n",
        "(ここから以降に自作問題を書いてください)"
      ]
    },
    {
      "cell_type": "code",
      "metadata": {
        "id": "zt9DTqtcu5Gq"
      },
      "source": [
        "# ここに自作問題の回答（pythonプログラム）を書いてください"
      ],
      "execution_count": null,
      "outputs": []
    },
    {
      "cell_type": "markdown",
      "metadata": {
        "id": "fx0crMgHu5Gq"
      },
      "source": [
        "第234問\n",
        "次の問題に答えなさい\n",
        "\n",
        "(ここから以降に自作問題を書いてください)"
      ]
    },
    {
      "cell_type": "code",
      "metadata": {
        "id": "Vw7lhieju5Gq"
      },
      "source": [
        "# ここに自作問題の回答（pythonプログラム）を書いてください"
      ],
      "execution_count": null,
      "outputs": []
    },
    {
      "cell_type": "markdown",
      "metadata": {
        "id": "uA-5JA8au5Gq"
      },
      "source": [
        "第235問\n",
        "次の問題に答えなさい\n",
        "\n",
        "(ここから以降に自作問題を書いてください)"
      ]
    },
    {
      "cell_type": "code",
      "metadata": {
        "id": "buSvan70u5Gq"
      },
      "source": [
        "# ここに自作問題の回答（pythonプログラム）を書いてください"
      ],
      "execution_count": null,
      "outputs": []
    },
    {
      "cell_type": "markdown",
      "metadata": {
        "id": "788A3KiIu5Gq"
      },
      "source": [
        "第236問\n",
        "次の問題に答えなさい\n",
        "\n",
        "(ここから以降に自作問題を書いてください)"
      ]
    },
    {
      "cell_type": "code",
      "metadata": {
        "id": "B0sfe2geu5Gq"
      },
      "source": [
        "# ここに自作問題の回答（pythonプログラム）を書いてください"
      ],
      "execution_count": null,
      "outputs": []
    },
    {
      "cell_type": "markdown",
      "metadata": {
        "id": "IN0XY1ESu5Gq"
      },
      "source": [
        "第237問\n",
        "次の問題に答えなさい\n",
        "\n",
        "(ここから以降に自作問題を書いてください)"
      ]
    },
    {
      "cell_type": "code",
      "metadata": {
        "id": "L_wdAGhdu5Gr"
      },
      "source": [
        "# ここに自作問題の回答（pythonプログラム）を書いてください"
      ],
      "execution_count": null,
      "outputs": []
    },
    {
      "cell_type": "markdown",
      "metadata": {
        "id": "yFdxtGHJu5Gr"
      },
      "source": [
        "第238問\n",
        "次の問題に答えなさい\n",
        "\n",
        "(ここから以降に自作問題を書いてください)"
      ]
    },
    {
      "cell_type": "code",
      "metadata": {
        "id": "2--_E8TCu5Gr"
      },
      "source": [
        "# ここに自作問題の回答（pythonプログラム）を書いてください"
      ],
      "execution_count": null,
      "outputs": []
    },
    {
      "cell_type": "markdown",
      "metadata": {
        "id": "zhg_mdIhu5Gr"
      },
      "source": [
        "第239問\n",
        "次の問題に答えなさい\n",
        "\n",
        "(ここから以降に自作問題を書いてください)"
      ]
    },
    {
      "cell_type": "code",
      "metadata": {
        "id": "1ZomFKECu5Gr"
      },
      "source": [
        "# ここに自作問題の回答（pythonプログラム）を書いてください"
      ],
      "execution_count": null,
      "outputs": []
    },
    {
      "cell_type": "markdown",
      "metadata": {
        "id": "TdotEAqEu5Gr"
      },
      "source": [
        "第240問\n",
        "次の問題に答えなさい\n",
        "\n",
        "(ここから以降に自作問題を書いてください)"
      ]
    },
    {
      "cell_type": "code",
      "metadata": {
        "id": "JCjKFp_Gu5Gr"
      },
      "source": [
        "# ここに自作問題の回答（pythonプログラム）を書いてください"
      ],
      "execution_count": null,
      "outputs": []
    },
    {
      "cell_type": "markdown",
      "metadata": {
        "id": "zw5KiB97u5Gr"
      },
      "source": [
        "第241問\n",
        "次の問題に答えなさい\n",
        "\n",
        "(ここから以降に自作問題を書いてください)"
      ]
    },
    {
      "cell_type": "code",
      "metadata": {
        "id": "vkHU9VBnu5Gr"
      },
      "source": [
        "# ここに自作問題の回答（pythonプログラム）を書いてください"
      ],
      "execution_count": null,
      "outputs": []
    },
    {
      "cell_type": "markdown",
      "metadata": {
        "id": "FMAyS5aQu5Gr"
      },
      "source": [
        "第242問\n",
        "次の問題に答えなさい\n",
        "\n",
        "(ここから以降に自作問題を書いてください)"
      ]
    },
    {
      "cell_type": "code",
      "metadata": {
        "id": "AG9CrZqou5Gs"
      },
      "source": [
        "# ここに自作問題の回答（pythonプログラム）を書いてください"
      ],
      "execution_count": null,
      "outputs": []
    },
    {
      "cell_type": "markdown",
      "metadata": {
        "id": "zT3neff5u5Gs"
      },
      "source": [
        "第243問\n",
        "次の問題に答えなさい\n",
        "\n",
        "(ここから以降に自作問題を書いてください)"
      ]
    },
    {
      "cell_type": "code",
      "metadata": {
        "id": "DMn7elXEu5Gs"
      },
      "source": [
        "# ここに自作問題の回答（pythonプログラム）を書いてください"
      ],
      "execution_count": null,
      "outputs": []
    },
    {
      "cell_type": "markdown",
      "metadata": {
        "id": "AD-I_JJXu5Gs"
      },
      "source": [
        "第244問\n",
        "次の問題に答えなさい\n",
        "\n",
        "(ここから以降に自作問題を書いてください)"
      ]
    },
    {
      "cell_type": "code",
      "metadata": {
        "id": "a39DNa-iu5Gs"
      },
      "source": [
        "# ここに自作問題の回答（pythonプログラム）を書いてください"
      ],
      "execution_count": null,
      "outputs": []
    },
    {
      "cell_type": "markdown",
      "metadata": {
        "id": "O1cvYeJ6u5Gs"
      },
      "source": [
        "第245問\n",
        "次の問題に答えなさい\n",
        "\n",
        "(ここから以降に自作問題を書いてください)"
      ]
    },
    {
      "cell_type": "code",
      "metadata": {
        "id": "zjGXhYF0u5Gs"
      },
      "source": [
        "# ここに自作問題の回答（pythonプログラム）を書いてください"
      ],
      "execution_count": null,
      "outputs": []
    },
    {
      "cell_type": "markdown",
      "metadata": {
        "id": "9Rfu_yz8u5Gs"
      },
      "source": [
        "第246問\n",
        "次の問題に答えなさい\n",
        "\n",
        "(ここから以降に自作問題を書いてください)"
      ]
    },
    {
      "cell_type": "code",
      "metadata": {
        "id": "jnrIjG2lu5Gs"
      },
      "source": [
        "# ここに自作問題の回答（pythonプログラム）を書いてください"
      ],
      "execution_count": null,
      "outputs": []
    },
    {
      "cell_type": "markdown",
      "metadata": {
        "id": "okvxIsP-u5Gt"
      },
      "source": [
        "第247問\n",
        "次の問題に答えなさい\n",
        "\n",
        "(ここから以降に自作問題を書いてください)"
      ]
    },
    {
      "cell_type": "code",
      "metadata": {
        "id": "0f8TBWAou5Gt"
      },
      "source": [
        "# ここに自作問題の回答（pythonプログラム）を書いてください"
      ],
      "execution_count": null,
      "outputs": []
    },
    {
      "cell_type": "markdown",
      "metadata": {
        "id": "snw_maqtu5Gt"
      },
      "source": [
        "第248問\n",
        "次の問題に答えなさい\n",
        "\n",
        "(ここから以降に自作問題を書いてください)"
      ]
    },
    {
      "cell_type": "code",
      "metadata": {
        "id": "Yj5--RZ8u5Gt"
      },
      "source": [
        "# ここに自作問題の回答（pythonプログラム）を書いてください"
      ],
      "execution_count": null,
      "outputs": []
    },
    {
      "cell_type": "markdown",
      "metadata": {
        "id": "uZEau2Lfu5Gt"
      },
      "source": [
        "第249問\n",
        "次の問題に答えなさい\n",
        "\n",
        "(ここから以降に自作問題を書いてください)"
      ]
    },
    {
      "cell_type": "code",
      "metadata": {
        "id": "3n7H3fiQu5Gt"
      },
      "source": [
        "# ここに自作問題の回答（pythonプログラム）を書いてください"
      ],
      "execution_count": null,
      "outputs": []
    },
    {
      "cell_type": "markdown",
      "metadata": {
        "id": "keP2L3uUu5Gt"
      },
      "source": [
        "第250問\n",
        "次の問題に答えなさい\n",
        "\n",
        "(ここから以降に自作問題を書いてください)"
      ]
    },
    {
      "cell_type": "code",
      "metadata": {
        "id": "GMFXyn71u5Gt"
      },
      "source": [
        "# ここに自作問題の回答（pythonプログラム）を書いてください"
      ],
      "execution_count": null,
      "outputs": []
    }
  ]
}